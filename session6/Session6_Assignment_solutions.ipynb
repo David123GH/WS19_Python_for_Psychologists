{
 "cells": [
  {
   "cell_type": "markdown",
   "metadata": {},
   "source": [
    "# Python for Psychologists - Session 6\n",
    "## Homework assignment"
   ]
  },
  {
   "cell_type": "markdown",
   "metadata": {},
   "source": [
    "**Exercise 1.**\n",
    "\n",
    "Create a class called \"dog\". The class should have an attribute called \"tricks\", defined as an empty list inside the `.__init__` method. Also, create three additional attributes (whatever you like).\n",
    "\n",
    "In addition, create a method called \"teach\" which accepts one string argument (a trick) and appends it to the \"tricks\" attribute list. Also, create three additional methods of your choice."
   ]
  },
  {
   "cell_type": "code",
   "execution_count": null,
   "metadata": {
    "collapsed": true
   },
   "outputs": [],
   "source": [
    "class dog:\n",
    "    \n",
    "    def __init__(self, name, breed, age, sex):\n",
    "        self.tricks = []\n",
    "        self.name = name\n",
    "        self.breed = breed\n",
    "        self.age = age\n",
    "        self.sex = sex\n",
    "        \n",
    "    def teach(self, command):\n",
    "        self.tricks.append(command)\n",
    "    \n",
    "    def stroke(self):\n",
    "        if self.sex == \"male\":\n",
    "            print(self.name + \" wags his tail.\")\n",
    "        elif self.sex == \"female\":\n",
    "            print(self.name + \" wags her tail.\")\n",
    "    \n",
    "    def feed(self, food):\n",
    "        if food in [\"meat\", \"sausage\", \"fish\"]:\n",
    "            print(self.name + \" smacks happily.\")\n",
    "        else:\n",
    "            print(self.name + \" looks disgusted.\")\n",
    "    \n",
    "    def fetch_ball(self):\n",
    "        from time import sleep\n",
    "        print(\"Throwing ball...\")\n",
    "        sleep(3)\n",
    "        print(\"... \"+ self.name + \" brought back the ball.\")"
   ]
  },
  {
   "cell_type": "code",
   "execution_count": null,
   "metadata": {},
   "outputs": [],
   "source": [
    "emmy = dog(\"Emmy\", \"Collie\", \"2.5 years\", \"female\")\n",
    "emmy.teach(\"sit\")\n",
    "print(emmy.tricks)\n",
    "emmy.stroke()\n",
    "emmy.feed(\"vegetables\")\n",
    "emmy.feed(\"sausage\")"
   ]
  },
  {
   "cell_type": "code",
   "execution_count": null,
   "metadata": {},
   "outputs": [],
   "source": [
    "emmy.fetch_ball()"
   ]
  },
  {
   "cell_type": "markdown",
   "metadata": {},
   "source": [
    "**Exercise 2.**\n",
    "\n",
    "Create a class called \"labrador\". Let it inherit from the class \"dog\". Define the attribute `breed` as \"labrador\" inside the `.__init__` method. Afterwards create an instance of labrador and check if it is an instance of the class labrador. Then, check if it is an instance of class \"dog\".\n",
    "\n",
    "In case you did not manage to create a \"dog\" class in exercise 1, try to write the code as it would look like, in theory."
   ]
  },
  {
   "cell_type": "code",
   "execution_count": null,
   "metadata": {},
   "outputs": [],
   "source": [
    "class labrador(dog):\n",
    "    \n",
    "    def __init__(self, name, age, sex):\n",
    "        self.tricks = []\n",
    "        self.name = name\n",
    "        self.breed = \"labrador\"\n",
    "        self.age = age\n",
    "        self.sex = sex\n",
    "\n",
    "baxter = labrador(\"Baxter\", \"6 years\", \"male\")\n",
    "print(isinstance(baxter, labrador))\n",
    "print(isinstance(baxter, dog))"
   ]
  }
 ],
 "metadata": {
  "kernelspec": {
   "display_name": "Python 3",
   "language": "python",
   "name": "python3"
  },
  "language_info": {
   "codemirror_mode": {
    "name": "ipython",
    "version": 3
   },
   "file_extension": ".py",
   "mimetype": "text/x-python",
   "name": "python",
   "nbconvert_exporter": "python",
   "pygments_lexer": "ipython3",
   "version": "3.5.4"
  }
 },
 "nbformat": 4,
 "nbformat_minor": 2
}
