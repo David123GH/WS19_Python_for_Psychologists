{
 "cells": [
  {
   "cell_type": "markdown",
   "metadata": {},
   "source": [
    "# Python for Psychologists - Session 6\n",
    "## Classes"
   ]
  },
  {
   "cell_type": "markdown",
   "metadata": {},
   "source": [
    "Of course, the concept of classes is nothing new. Basically, classes are categories of objects. In everyday life we are familiar with classes/categories for objects like \"cars\" or \"buildings\" or \"dogs\". The reason for the categorization of these object is that they all share common features. For example, cars are usually used as means of transportation and, hence, we can drive them and also use their break. At the same time, they also have certain features that vary between them, like their colour. Of course, every car *has* a colour, but what specific colour it is will vary from one car to another. \n",
    "\n",
    "\n",
    "### Classes and instances\n",
    "In programming, classes are used to describe objects and to define what one can do with them and what other kind of features they have. Each object/\"exemplar\" of a class is called an **instance**, and the creation of an instance is, hence, called instantiation. The following code part shows the instantiation of an object of class list:\n",
    "\n",
    "```python\n",
    "instance_of_class_list = []\n",
    "```\n",
    "\n",
    "This should look pretty familiar. Each time we create a new object, e.g., a list, we create a new instance of the class \"list\". We can check the class of an object by using the following syntax:\n",
    "\n",
    "```python\n",
    "instance_of_class_list.__class__ # this would return \"list\"\n",
    "```\n",
    "\n",
    "Moreover, we can check if an object is an instance of a certain class using the `isinstance()` function:\n",
    "\n",
    "```python\n",
    "isinstance(my_object, some_class) # returns True or False\n",
    "```\n",
    "\n",
    "The concept of classes and instances is the core of *object oriented programming*, a programming style that aims at designing code in a way that it represents/resembles structures of the real world domain/phenomenon. Python is not exclusively an object oriented programming language but it supports it and several things are implemented in an OOP fashion. \n",
    "\n",
    "### Methods and attributes\n",
    "\n",
    "Classes have two types of feautures.\n",
    "\n",
    "**1) Methods**\n",
    "\n",
    "Methods describe what one can do with this kind of objects, that is, methods describe *functions* that are associated with each instance of the class. Usually, they are the same for different instances of a class. Methods can be used/applied to an object like this:\n",
    "\n",
    "```python\n",
    "some_instance.some_method()\n",
    "```\n",
    "This will run the respective method/function with respective to the object. We have already met list methods like `.pop()` and `.remove()`.\n",
    "\n",
    "\n",
    "**2) Attributes**\n",
    "\n",
    "Attributes describe variable features that are not functions. Attributes can be variable across different instances of a class. Attributes can be accessed like this:\n",
    "\n",
    "```python\n",
    "some_instance.some_attribute\n",
    "```\n",
    "\n",
    "As you can see the syntax is the same as the one for methods, *except for the parentheses ( )*. We have also met and used some attributes, e.g., the `.columns` attribute of pandas data frames."
   ]
  },
  {
   "cell_type": "markdown",
   "metadata": {},
   "source": [
    "![title](classes.png)"
   ]
  },
  {
   "cell_type": "markdown",
   "metadata": {},
   "source": [
    "### Finding methods and attributes of existing classes\n",
    "\n",
    "Now that you know that each instance of a class has certain methods and attributes, you can be a little more specific when looking for functions in Python online. Inside the Jupyter Notebook you can also easily look for methods and attributes of an object/instance. Just type the name of the respective object, place a `.` after it and press the tab button. A drop-down menu will appear listing all methods and attributes available for instances of the respective class. Execute the code cell below. Afterwards, type the name `some_df.` and press tab."
   ]
  },
  {
   "cell_type": "code",
   "execution_count": 27,
   "metadata": {
    "collapsed": true
   },
   "outputs": [],
   "source": [
    "import pandas as pd\n",
    "some_df = pd.DataFrame({\"name\":[\"Sophie\", \"Lars\", \"Mia\"], \"age\":[9, 14, 6]})[[\"name\",\"age\"]]"
   ]
  },
  {
   "cell_type": "code",
   "execution_count": 28,
   "metadata": {},
   "outputs": [
    {
     "data": {
      "text/html": [
       "<div>\n",
       "<style>\n",
       "    .dataframe thead tr:only-child th {\n",
       "        text-align: right;\n",
       "    }\n",
       "\n",
       "    .dataframe thead th {\n",
       "        text-align: left;\n",
       "    }\n",
       "\n",
       "    .dataframe tbody tr th {\n",
       "        vertical-align: top;\n",
       "    }\n",
       "</style>\n",
       "<table border=\"1\" class=\"dataframe\">\n",
       "  <thead>\n",
       "    <tr style=\"text-align: right;\">\n",
       "      <th></th>\n",
       "      <th>name</th>\n",
       "      <th>age</th>\n",
       "    </tr>\n",
       "  </thead>\n",
       "  <tbody>\n",
       "    <tr>\n",
       "      <th>0</th>\n",
       "      <td>Sophie</td>\n",
       "      <td>9</td>\n",
       "    </tr>\n",
       "    <tr>\n",
       "      <th>1</th>\n",
       "      <td>Lars</td>\n",
       "      <td>14</td>\n",
       "    </tr>\n",
       "    <tr>\n",
       "      <th>2</th>\n",
       "      <td>Mia</td>\n",
       "      <td>6</td>\n",
       "    </tr>\n",
       "  </tbody>\n",
       "</table>\n",
       "</div>"
      ],
      "text/plain": [
       "     name  age\n",
       "0  Sophie    9\n",
       "1    Lars   14\n",
       "2     Mia    6"
      ]
     },
     "execution_count": 28,
     "metadata": {},
     "output_type": "execute_result"
    }
   ],
   "source": [
    "some_df"
   ]
  },
  {
   "cell_type": "code",
   "execution_count": null,
   "metadata": {
    "collapsed": true
   },
   "outputs": [],
   "source": [
    "some_df."
   ]
  },
  {
   "cell_type": "markdown",
   "metadata": {},
   "source": [
    "If we want to find attributes and methods of a class in general without already having a specific instance of it, we can simply type the class name, again followed by a dot, and press \"tab\" again."
   ]
  },
  {
   "cell_type": "code",
   "execution_count": null,
   "metadata": {
    "collapsed": true
   },
   "outputs": [],
   "source": [
    "pd.DataFrame."
   ]
  },
  {
   "cell_type": "code",
   "execution_count": null,
   "metadata": {
    "collapsed": true
   },
   "outputs": [],
   "source": [
    "list."
   ]
  },
  {
   "cell_type": "markdown",
   "metadata": {},
   "source": [
    "Another way to obtain a list of methods and attributes is to use the `dir()` function."
   ]
  },
  {
   "cell_type": "code",
   "execution_count": null,
   "metadata": {
    "collapsed": true
   },
   "outputs": [],
   "source": [
    "dir(list)"
   ]
  },
  {
   "cell_type": "markdown",
   "metadata": {},
   "source": [
    "### Class definition\n",
    "\n",
    "Of course, we can create our own classes. The syntax looks like this:\n",
    "\n",
    "```python\n",
    "\n",
    "class some_class_name:\n",
    "    \n",
    "    ############### Initialization ################\n",
    "    def __init__(self, some_argument):\n",
    "        # e.g., define instance attributes \n",
    "        self.some_instance_attr = some_value\n",
    "        self.some_other_instance_attr = some_argument\n",
    "    \n",
    "    ################ Methods #####################\n",
    "    def some_method(self):\n",
    "        # do\n",
    "        # something\n",
    "        # e.g., create another instance attribute\n",
    "    def some_other_method(self, some_other_argument):\n",
    "        # do \n",
    "        # something else\n",
    "        return something_else       \n",
    "        \n",
    "    ################# Class Attributes #################\n",
    "    some_class_attribute = some_value\n",
    "        \n",
    "```\n",
    "\n",
    "Creating an instance of a class works as follows:\n",
    "\n",
    "```python\n",
    "some_instance = some_class() # don't forget the parentheses\n",
    "```\n",
    "\n",
    "\n",
    "Here is a very simple example of a class definition: "
   ]
  },
  {
   "cell_type": "code",
   "execution_count": 2,
   "metadata": {},
   "outputs": [
    {
     "name": "stdout",
     "output_type": "stream",
     "text": [
      "Hello!\n"
     ]
    }
   ],
   "source": [
    "class greeter:    \n",
    "    def say_hi(self):\n",
    "        print(\"Hello!\")\n",
    "    \n",
    "my_greeter = greeter()\n",
    "my_greeter.say_hi()"
   ]
  },
  {
   "cell_type": "markdown",
   "metadata": {},
   "source": [
    "In this case, we did not specify any `__init__` method. The `__init__` stands for initialisation, however, it is not really a constructor per se, that is, it is not necessary for an instance to be created. Instead, it simply specifies things that are supposed to happen by default once a new instance is created. \n",
    "\n",
    "Let's take a look at an example:"
   ]
  },
  {
   "cell_type": "code",
   "execution_count": 102,
   "metadata": {},
   "outputs": [
    {
     "name": "stdout",
     "output_type": "stream",
     "text": [
      "You have created another greeter!\n"
     ]
    }
   ],
   "source": [
    "class greeter:\n",
    "    def __init__(self):\n",
    "        print(\"You have created another greeter!\")\n",
    "        \n",
    "    def say_hi(self):\n",
    "        print(\"Hello!\")\n",
    "\n",
    "my_greeter = greeter()"
   ]
  },
  {
   "cell_type": "markdown",
   "metadata": {},
   "source": [
    "Test if `my_greeter` is an instance of `greeter` class."
   ]
  },
  {
   "cell_type": "code",
   "execution_count": 105,
   "metadata": {},
   "outputs": [
    {
     "data": {
      "text/plain": [
       "True"
      ]
     },
     "execution_count": 105,
     "metadata": {},
     "output_type": "execute_result"
    }
   ],
   "source": [
    "isinstance(my_greeter, greeter)"
   ]
  },
  {
   "cell_type": "markdown",
   "metadata": {},
   "source": [
    "**Adding attributes**\n",
    "\n",
    "(Instance) Attributes are usually added inside of methods, typically already during the `__init__` method specification."
   ]
  },
  {
   "cell_type": "code",
   "execution_count": 3,
   "metadata": {},
   "outputs": [
    {
     "name": "stdout",
     "output_type": "stream",
     "text": [
      "You have created another greeter!\n",
      "The greeter's name is John\n"
     ]
    }
   ],
   "source": [
    "class greeter:\n",
    "    def __init__(self, name):\n",
    "        print(\"You have created another greeter!\")\n",
    "        # adding an attribute:\n",
    "        self.name = name\n",
    "        print(\"The greeter's name is \" + name)\n",
    "    \n",
    "    def say_hi(self):\n",
    "        print(\"Hello!\")\n",
    "    \n",
    "    def say_your_name(self):\n",
    "        print(\"My name is \" + self.name)\n",
    "    \n",
    "my_greeter = greeter(\"John\") # now we need an extra input for the name argument!   "
   ]
  },
  {
   "cell_type": "code",
   "execution_count": 99,
   "metadata": {},
   "outputs": [
    {
     "name": "stdout",
     "output_type": "stream",
     "text": [
      "My name is John\n"
     ]
    }
   ],
   "source": [
    "my_greeter.say_your_name()"
   ]
  },
  {
   "cell_type": "markdown",
   "metadata": {},
   "source": [
    "**What's with the self?**\n",
    "\n",
    "You have probably already wondered what the funny 'self' argument to each method definition is supposed to mean. A crude answer is the following:\n",
    "\n",
    "When an instance is created the methods of the instance are still inside the class definition. That is, what is happening when we try to run a method of an instance is *something like* this:\n",
    "\n",
    "`class_name.method_name(instance_name)`\n",
    "\n",
    "or, for our example:\n",
    "\n",
    "`greeter.say_hi(my_greeter)`\n",
    "\n",
    "Of course, this code won't work, but it helps to think of this code as if it was happening inside. This means, that each method defined in the class, also needs to be passed which object this is about. Inside the class definition the specific instance argument is called \"self\" by convention. Theoretically, it could be anything, like in any other function definition. So, in short, as long as you always have the \"self\" as part of your method arguments, everything is fine.\n"
   ]
  },
  {
   "cell_type": "markdown",
   "metadata": {},
   "source": [
    "Look at this adder class:"
   ]
  },
  {
   "cell_type": "code",
   "execution_count": 22,
   "metadata": {},
   "outputs": [
    {
     "name": "stdout",
     "output_type": "stream",
     "text": [
      "All attributes have been set!\n"
     ]
    },
    {
     "data": {
      "text/plain": [
       "5"
      ]
     },
     "execution_count": 22,
     "metadata": {},
     "output_type": "execute_result"
    }
   ],
   "source": [
    "class adder:\n",
    "    def __init__(self, a, b):\n",
    "        self.a = a\n",
    "        self.b = b\n",
    "        print(\"All attributes have been set!\")\n",
    "    \n",
    "    def add_it_up(self):\n",
    "        return self.a + self.b\n",
    "\n",
    "my_adder = adder(2, 3)\n",
    "my_adder.add_it_up()"
   ]
  },
  {
   "cell_type": "markdown",
   "metadata": {},
   "source": [
    "**Exercise 1.**\n",
    "\n",
    "Create a class that has two attributes: the width and the length of a rectangle. Let the class have a method `.area()` that returns the area of the respective rectangle instance (that is length \\* width).  "
   ]
  },
  {
   "cell_type": "code",
   "execution_count": 9,
   "metadata": {},
   "outputs": [
    {
     "data": {
      "text/plain": [
       "15"
      ]
     },
     "execution_count": 9,
     "metadata": {},
     "output_type": "execute_result"
    }
   ],
   "source": [
    "class rectangle:\n",
    "    \n",
    "    def __init__(self, length, width):\n",
    "        self.length = length\n",
    "        self.width = width\n",
    "        \n",
    "    def area(self):\n",
    "        return self.length * self.width\n",
    "        \n",
    "r = rectangle(length=5, width = 3)\n",
    "r.area()"
   ]
  },
  {
   "cell_type": "markdown",
   "metadata": {},
   "source": [
    "**Exercise 2.**\n",
    "\n",
    "Write a class \"calculator\" whose instances have two numeric attributes \"a\" and \"b\". In addition, the class should have the methods \"multiply\", \"add\", \"divide\" and \"subtract\" which have the respective result as a return value. After the class definition, create an instance of the class with the numeric attributes a = 3 and b = 2 and test all its methods."
   ]
  },
  {
   "cell_type": "code",
   "execution_count": 41,
   "metadata": {},
   "outputs": [
    {
     "name": "stdout",
     "output_type": "stream",
     "text": [
      "5\n",
      "1\n",
      "6\n",
      "1.5\n"
     ]
    }
   ],
   "source": [
    "class calculator:\n",
    "    \n",
    "    def __init__(self, a, b):\n",
    "        self.a = a\n",
    "        self.b = b\n",
    "    def add(self):\n",
    "        return(self.a + self.b)\n",
    "    def subtract(self):\n",
    "        return(self.a - self.b)\n",
    "    def multiply(self):\n",
    "        return(self.a * self.b)\n",
    "    def divide(self):\n",
    "        return(self.a / self.b)\n",
    "    \n",
    "my_calc = calculator(a=3, b=2)\n",
    "print(my_calc.add())\n",
    "print(my_calc.subtract())\n",
    "print(my_calc.multiply())\n",
    "print(my_calc.divide())"
   ]
  },
  {
   "cell_type": "markdown",
   "metadata": {},
   "source": [
    "**Exercise 3.**\n",
    "\n",
    "Write a Python class which has two methods `get_string` and `print_string`. `get_string accepts` a string from the user (the command is `input()` that needs to be assigned to the attribute `string`) and `print_string` prints the string. Define the attribute `string` in the `.__init__` method already."
   ]
  },
  {
   "cell_type": "code",
   "execution_count": 13,
   "metadata": {},
   "outputs": [
    {
     "name": "stdout",
     "output_type": "stream",
     "text": [
      "hallo\n"
     ]
    }
   ],
   "source": [
    "class iostring:\n",
    "    \n",
    "    def __init__(self):\n",
    "        self.string = \"\"\n",
    "        \n",
    "    def get_string(self):\n",
    "        self.string = input()\n",
    "    \n",
    "    def print_string(self):\n",
    "        print(self.string)\n",
    "        \n",
    "new = iostring()\n",
    "new.get_string()"
   ]
  },
  {
   "cell_type": "code",
   "execution_count": 14,
   "metadata": {},
   "outputs": [
    {
     "name": "stdout",
     "output_type": "stream",
     "text": [
      "hallo\n"
     ]
    }
   ],
   "source": [
    "new.print_string()"
   ]
  },
  {
   "cell_type": "markdown",
   "metadata": {},
   "source": [
    "### Instance attributes are changeable\n",
    "\n",
    "Attributes can still be changed after the creation. If that wasn't the case we would have to create a new instance each time we apply changes to, e.g., our data frame.\n",
    "\n",
    "Assign a new value to the attribute \"b\" of you \"calculator\" class instance from above. Use the `add()` method afterwards."
   ]
  },
  {
   "cell_type": "code",
   "execution_count": 46,
   "metadata": {},
   "outputs": [
    {
     "data": {
      "text/plain": [
       "9"
      ]
     },
     "execution_count": 46,
     "metadata": {},
     "output_type": "execute_result"
    }
   ],
   "source": [
    "my_calc.b = 6\n",
    "my_calc.add()"
   ]
  },
  {
   "cell_type": "markdown",
   "metadata": {
    "collapsed": true
   },
   "source": [
    "### Inheritance\n",
    "\n",
    "When creating a class that has very similar methods and attributes as a class that already exists, we can simply inherit all or certain methods and attributes from the existing class (which is then called the \"parent class\" or \"base class\"). This way, we can easily change or add methods and attributes to an existing class.\n",
    "\n",
    "\n",
    "```python\n",
    "\n",
    "class new_class(existing_class):\n",
    "\n",
    "    def new_method(self):\n",
    "        # do\n",
    "        # stuff\n",
    "\n",
    "```\n",
    "\n",
    "Let's define a new class of pandas data frames! The new class should inherit from the original `pd.DataFrame` class and have a new method called `.who_are_you()` that returns some string."
   ]
  },
  {
   "cell_type": "code",
   "execution_count": 58,
   "metadata": {},
   "outputs": [
    {
     "name": "stdout",
     "output_type": "stream",
     "text": [
      "   age    name\n",
      "0    9  Sophie\n",
      "1   14    Lars\n",
      "2    6     Mia\n",
      "\n",
      "'Who are you?'\n",
      "'Hihihi, I am a new df class!'\n"
     ]
    }
   ],
   "source": [
    "import pandas as pd\n",
    "\n",
    "class new_df(pd.DataFrame):\n",
    "    \n",
    "    def who_are_you(self):\n",
    "        return \"'Hihihi, I am a new df class!'\"\n",
    "        \n",
    "x = new_df({\"name\":[\"Sophie\", \"Lars\", \"Mia\"], \"age\":[9, 14, 6]})\n",
    "print(x)\n",
    "print(\"\\n\" + \"'Who are you?'\"+\"\\n\"+x.who_are_you())"
   ]
  },
  {
   "cell_type": "markdown",
   "metadata": {},
   "source": [
    "Create a new type of list class called \"new_list\" that inherits from the existing list class and adds an attribute (a simple string) to it inside the `__init__` method. Afterwards, create a new instance of \"new_list\" and append a number to it. Then, look at the new attribute."
   ]
  },
  {
   "cell_type": "code",
   "execution_count": 21,
   "metadata": {
    "collapsed": true
   },
   "outputs": [],
   "source": [
    "class new_list(list):\n",
    "    \n",
    "    def __init__(self):\n",
    "        self.new_attr = \"I'm a new attribute!\"\n",
    "    \n",
    "x=new_list()\n",
    "x.append(1)"
   ]
  },
  {
   "cell_type": "code",
   "execution_count": 22,
   "metadata": {},
   "outputs": [
    {
     "data": {
      "text/plain": [
       "[1]"
      ]
     },
     "execution_count": 22,
     "metadata": {},
     "output_type": "execute_result"
    }
   ],
   "source": [
    "x"
   ]
  },
  {
   "cell_type": "code",
   "execution_count": 23,
   "metadata": {},
   "outputs": [
    {
     "data": {
      "text/plain": [
       "\"I'm a new attribute!\""
      ]
     },
     "execution_count": 23,
     "metadata": {},
     "output_type": "execute_result"
    }
   ],
   "source": [
    "x.new_attr"
   ]
  },
  {
   "cell_type": "markdown",
   "metadata": {
    "collapsed": true
   },
   "source": [
    "### Copying objects\n",
    "\n",
    "This topic is not specific to classes, but as we are talking about objects and OOP a little bit, this is maybe a good point to give you some very relevant information on how to copy objects properly.\n",
    "\n",
    "Look at the code below:"
   ]
  },
  {
   "cell_type": "code",
   "execution_count": 30,
   "metadata": {},
   "outputs": [
    {
     "data": {
      "text/plain": [
       "['a', 'b', 'c']"
      ]
     },
     "execution_count": 30,
     "metadata": {},
     "output_type": "execute_result"
    }
   ],
   "source": [
    "a = [\"a\", \"b\", \"c\"]\n",
    "b = a # making a copy\n",
    "b"
   ]
  },
  {
   "cell_type": "markdown",
   "metadata": {},
   "source": [
    "So far so good. But now look what happens to \"b\" after making changes to \"a\":"
   ]
  },
  {
   "cell_type": "code",
   "execution_count": 31,
   "metadata": {},
   "outputs": [
    {
     "name": "stdout",
     "output_type": "stream",
     "text": [
      "['z', 'b', 'c']\n",
      "['z', 'b', 'c']\n"
     ]
    }
   ],
   "source": [
    "a[0] = \"z\"\n",
    "print(a)\n",
    "print(b)"
   ]
  },
  {
   "cell_type": "markdown",
   "metadata": {},
   "source": [
    "As you can see, as a has changed, b changed as well! Of course, it depends on what you want, but very often this effect is unintended. The reason is that by assigning one object to another using `=`, what is actually assigned to \"b\" is NOT the object contents of \"a\" *per se*, but rather a pointer to the same location in memory. We check this using the `id()` command, that returns the object/memory id of an object."
   ]
  },
  {
   "cell_type": "code",
   "execution_count": 32,
   "metadata": {},
   "outputs": [
    {
     "name": "stdout",
     "output_type": "stream",
     "text": [
      "4409597704\n",
      "4409597704\n"
     ]
    }
   ],
   "source": [
    "print(id(a))\n",
    "print(id(b))"
   ]
  },
  {
   "cell_type": "markdown",
   "metadata": {},
   "source": [
    "As we can see, the two objects have the same id! We can also use the `is` operator to check if two variables refer to the same object. It is NOT the same as `==`, which simply checks if two variables contain the same content."
   ]
  },
  {
   "cell_type": "code",
   "execution_count": 33,
   "metadata": {},
   "outputs": [
    {
     "data": {
      "text/plain": [
       "True"
      ]
     },
     "execution_count": 33,
     "metadata": {},
     "output_type": "execute_result"
    }
   ],
   "source": [
    "a is b"
   ]
  },
  {
   "cell_type": "code",
   "execution_count": 38,
   "metadata": {
    "collapsed": true
   },
   "outputs": [],
   "source": [
    "c = ['z', 'b', 'c'] # this new object has the same value as a"
   ]
  },
  {
   "cell_type": "code",
   "execution_count": 39,
   "metadata": {},
   "outputs": [
    {
     "data": {
      "text/plain": [
       "True"
      ]
     },
     "execution_count": 39,
     "metadata": {},
     "output_type": "execute_result"
    }
   ],
   "source": [
    "a==c"
   ]
  },
  {
   "cell_type": "code",
   "execution_count": 40,
   "metadata": {},
   "outputs": [
    {
     "data": {
      "text/plain": [
       "False"
      ]
     },
     "execution_count": 40,
     "metadata": {},
     "output_type": "execute_result"
    }
   ],
   "source": [
    "a is c"
   ]
  },
  {
   "cell_type": "markdown",
   "metadata": {},
   "source": [
    "What does this mean? It means that if we make changes to the object location in memory, all pointers to that location (that is, all variables) will return the same changed object when being evaluated.\n",
    "\n",
    "A way out of this problem is to use the `.copy()` method. \n",
    "\n",
    "Try to make a copy \"b\" of \"a\" again, but this time, don't try to assign directly \"a\" to \"b\", but rather \"a.copy( )\" to \"b\". Afterwards, do the same changes to a as before and look at both \"a\" and \"b\", as well as their `id()`."
   ]
  },
  {
   "cell_type": "code",
   "execution_count": 67,
   "metadata": {},
   "outputs": [
    {
     "name": "stdout",
     "output_type": "stream",
     "text": [
      "4505434248\n",
      "4505435592\n",
      "['z', 'b', 'c']\n",
      "['a', 'b', 'c']\n",
      "4505434248\n",
      "4505435592\n"
     ]
    }
   ],
   "source": [
    "a = [\"a\", \"b\", \"c\"]\n",
    "b = a.copy()\n",
    "\n",
    "print(id(a))\n",
    "print(id(b))\n",
    "\n",
    "a[0] = \"z\"\n",
    "print(a)\n",
    "print(b)\n",
    "\n",
    "print(id(a))\n",
    "print(id(b))"
   ]
  },
  {
   "cell_type": "markdown",
   "metadata": {
    "collapsed": true
   },
   "source": [
    "**Deep vs. shallow copies**\n",
    "\n",
    "Unfortunately, the `.copy()` method does not solve all possible problem with copying. Imagine you have a list like this:\n",
    "\n",
    "`a = [\"a\", \"b\", [1,2,3]]`\n",
    "\n",
    "If you now use `.copy()`, the first two positions of your original list will be \"independent\" from each other, however, the list inside the list won't. Go ahead and change one element inside the inside-list of a and take a look at b."
   ]
  },
  {
   "cell_type": "code",
   "execution_count": 70,
   "metadata": {
    "collapsed": true
   },
   "outputs": [],
   "source": [
    "a = [\"a\", \"b\", [1,2,3]]\n",
    "b = a.copy()"
   ]
  },
  {
   "cell_type": "code",
   "execution_count": 71,
   "metadata": {},
   "outputs": [
    {
     "name": "stdout",
     "output_type": "stream",
     "text": [
      "['a', 'b', [1, 99, 3]]\n",
      "['a', 'b', [1, 99, 3]]\n"
     ]
    }
   ],
   "source": [
    "a[2][1] = 99\n",
    "print(a)\n",
    "print(b)"
   ]
  },
  {
   "cell_type": "markdown",
   "metadata": {},
   "source": [
    "As advertised. The message is: `.copy()` makes **shallow** copies of the objects. In order to overcome this problem, there are also **deep** copies. The function name is `.deepcopy()`, contained in the module `copy`. Try and see if that solves the problem."
   ]
  },
  {
   "cell_type": "code",
   "execution_count": 77,
   "metadata": {},
   "outputs": [
    {
     "name": "stdout",
     "output_type": "stream",
     "text": [
      "['a', 'b', [1, 99, 3]]\n",
      "['a', 'b', [1, 2, 3]]\n"
     ]
    }
   ],
   "source": [
    "import copy\n",
    "a = [\"a\", \"b\", [1,2,3]]\n",
    "b = copy.deepcopy(a)\n",
    "\n",
    "a[2][1] = 99\n",
    "print(a)\n",
    "print(b)"
   ]
  },
  {
   "cell_type": "markdown",
   "metadata": {},
   "source": [
    "Interestingly, this only applies to mutable objects. That is, there is no way to make a copy of immutable objects like tuples. Why? Because there is no need to:\n",
    "\n",
    "Usually, we want to make a copy of an object because we want to create a changed version of it while keeping the original. But, as tuples are immutable, whenever we try to change a tuple, e.g., by adding an extra tuple to it, Python will automatically create a new object. So, in the end, we have want we would have had to achieve via `.copy()` for mutable objects: the original AND an independent object containing the changes."
   ]
  },
  {
   "cell_type": "code",
   "execution_count": 23,
   "metadata": {},
   "outputs": [
    {
     "name": "stdout",
     "output_type": "stream",
     "text": [
      "4525119744\n",
      "4525119744\n"
     ]
    }
   ],
   "source": [
    "a = (1,2,3)\n",
    "b = a\n",
    "print(id(a))\n",
    "print(id(b))"
   ]
  },
  {
   "cell_type": "code",
   "execution_count": 24,
   "metadata": {},
   "outputs": [
    {
     "name": "stdout",
     "output_type": "stream",
     "text": [
      "(1, 2, 3, 1)\n",
      "(1, 2, 3)\n",
      "4525119744\n",
      "4534268376\n"
     ]
    }
   ],
   "source": [
    "b += (1,)\n",
    "print(b)\n",
    "print(a) # a has not changed, although a and b referred to the same object and b experienced some changing\n",
    "print(id(a))\n",
    "print(id(b)) # ... because whenever an immutable object gets \"changed\" (it can't really be changed, ...\n",
    "# ... that's why it is immutable) a new immutable object that includes those changes it created"
   ]
  }
 ],
 "metadata": {
  "kernelspec": {
   "display_name": "Python 3",
   "language": "python",
   "name": "python3"
  },
  "language_info": {
   "codemirror_mode": {
    "name": "ipython",
    "version": 3
   },
   "file_extension": ".py",
   "mimetype": "text/x-python",
   "name": "python",
   "nbconvert_exporter": "python",
   "pygments_lexer": "ipython3",
   "version": "3.5.4"
  }
 },
 "nbformat": 4,
 "nbformat_minor": 2
}
