{
 "cells": [
  {
   "cell_type": "markdown",
   "metadata": {},
   "source": [
    "# Python for Psychologists - Session 6\n",
    "## Homework assignment"
   ]
  },
  {
   "cell_type": "markdown",
   "metadata": {},
   "source": [
    "**Exercise 1.**\n",
    "\n",
    "Create a class called \"dog\". The class should have an attribute called \"tricks\", defined as an empty list inside the `.__init__` method. Also, create three additional attributes (whatever you like).\n",
    "\n",
    "In addition, create a method called \"teach\" which accepts one string argument (a trick) and appends it to the \"tricks\" attribute list. Also, create three additional methods of your choice."
   ]
  },
  {
   "cell_type": "code",
   "execution_count": null,
   "metadata": {
    "collapsed": true
   },
   "outputs": [],
   "source": []
  },
  {
   "cell_type": "markdown",
   "metadata": {},
   "source": [
    "**Exercise 2.**\n",
    "\n",
    "Create a class called \"labrador\". Let it inherit from the class \"dog\". Define the attribute `breed` as \"labrador\" inside the `.__init__` method. Afterwards create an instance of labrador and check if it is an instance of the class labrador. Then, check if it is an instance of class \"dog\".\n",
    "\n",
    "In case you did not manage to create a \"dog\" class in exercise 1, try to write the code as it would look like, in theory."
   ]
  },
  {
   "cell_type": "code",
   "execution_count": null,
   "metadata": {
    "collapsed": true
   },
   "outputs": [],
   "source": []
  }
 ],
 "metadata": {
  "kernelspec": {
   "display_name": "Python 3",
   "language": "python",
   "name": "python3"
  },
  "language_info": {
   "codemirror_mode": {
    "name": "ipython",
    "version": 3
   },
   "file_extension": ".py",
   "mimetype": "text/x-python",
   "name": "python",
   "nbconvert_exporter": "python",
   "pygments_lexer": "ipython3",
   "version": "3.5.4"
  }
 },
 "nbformat": 4,
 "nbformat_minor": 2
}
