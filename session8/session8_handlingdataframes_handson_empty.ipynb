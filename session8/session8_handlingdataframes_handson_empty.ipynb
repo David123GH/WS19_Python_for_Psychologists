{
 "cells": [
  {
   "cell_type": "markdown",
   "metadata": {},
   "source": [
    "# Python for Psychologists - Session 8\n",
    "\n",
    "## hands on"
   ]
  },
  {
   "cell_type": "code",
   "execution_count": null,
   "metadata": {},
   "outputs": [],
   "source": [
    "%matplotlib inline\n",
    "\n",
    "from pandas import DataFrame, read_csv\n",
    "import matplotlib.pyplot as plt\n",
    "import pandas as pd \n",
    "import seaborn as sns\n",
    "from scipy import stats\n",
    "import os\n",
    "import numpy as np"
   ]
  },
  {
   "cell_type": "markdown",
   "metadata": {},
   "source": [
    "Check your current working directory, i.e. where your notebook is saved on your disk. Todays data{}.csv sheets need to be in the same directory as your jupyter notebook."
   ]
  },
  {
   "cell_type": "code",
   "execution_count": null,
   "metadata": {},
   "outputs": [],
   "source": [
    "pwd"
   ]
  },
  {
   "cell_type": "markdown",
   "metadata": {},
   "source": [
    "1) Use a for loop to create one dataframe that contains all .csv files for your 10 participants. Use the **os** module instead of creating a new subject list (hint: your files all end with .csv and os.listdir() shows you all files in your pwd). Hint: You need to set ```decimal=\",\" ``` when you use ```pd.read_csv```."
   ]
  },
  {
   "cell_type": "code",
   "execution_count": null,
   "metadata": {},
   "outputs": [],
   "source": []
  },
  {
   "cell_type": "markdown",
   "metadata": {},
   "source": [
    "Note: only the .csv files should be included in the overall data frame."
   ]
  },
  {
   "cell_type": "code",
   "execution_count": null,
   "metadata": {},
   "outputs": [],
   "source": []
  },
  {
   "cell_type": "markdown",
   "metadata": {},
   "source": [
    "2) Check the dataframe for missing values. If there are any missing values, replace it with 0 inside your current dataframe"
   ]
  },
  {
   "cell_type": "code",
   "execution_count": null,
   "metadata": {},
   "outputs": [],
   "source": []
  },
  {
   "cell_type": "code",
   "execution_count": null,
   "metadata": {},
   "outputs": [],
   "source": []
  },
  {
   "cell_type": "code",
   "execution_count": null,
   "metadata": {},
   "outputs": [],
   "source": []
  },
  {
   "cell_type": "markdown",
   "metadata": {},
   "source": [
    "3) Insert four new columns, that contain\n",
    "\n",
    "- Switchcost_Error = Error_Switch - Error_Baseline\n",
    "- Switchcost_RT = MeanRT_Switch - MeanRT_Baseline\n",
    "- Switchrate = switches / 20 \n",
    "- Ambig_RT = (AmbigCorrectStay_RT + AmbigCorrectSwitchRT) / 2"
   ]
  },
  {
   "cell_type": "code",
   "execution_count": null,
   "metadata": {},
   "outputs": [],
   "source": []
  },
  {
   "cell_type": "markdown",
   "metadata": {},
   "source": [
    "4) Sanity Check: Check whether Error_Baseline and Korrekt_Baseline adds up to 100% "
   ]
  },
  {
   "cell_type": "code",
   "execution_count": null,
   "metadata": {},
   "outputs": [],
   "source": []
  },
  {
   "cell_type": "markdown",
   "metadata": {},
   "source": [
    "5) Check whether any participant has more than 30% errors in the baseline, switch or stay condition using ```df.loc```. Create a respective \"exclusion_{}.format(condition)\" list, that contains the participants and print it. "
   ]
  },
  {
   "cell_type": "code",
   "execution_count": null,
   "metadata": {},
   "outputs": [],
   "source": []
  },
  {
   "cell_type": "markdown",
   "metadata": {},
   "source": [
    "5.1) For educational purposes only: Combine all three exclusion lists to a single exclusion_overall list, that does only contain unique values (i.e. your participants)"
   ]
  },
  {
   "cell_type": "code",
   "execution_count": null,
   "metadata": {},
   "outputs": [],
   "source": []
  },
  {
   "cell_type": "markdown",
   "metadata": {},
   "source": [
    "5.2) Now exclude cases in which \"Korrekt_Baseline\" and save the new data frame to a new variable \"df2\" **without** using ```df.loc```. Evaluate the new variable afterwards. Then, print a list of the subjects included in the new data frame \"df2\"."
   ]
  },
  {
   "cell_type": "code",
   "execution_count": null,
   "metadata": {
    "scrolled": false
   },
   "outputs": [],
   "source": []
  },
  {
   "cell_type": "code",
   "execution_count": null,
   "metadata": {
    "scrolled": true
   },
   "outputs": [],
   "source": []
  },
  {
   "cell_type": "markdown",
   "metadata": {},
   "source": [
    "6) Plot the RT for the baseline / stay / switch condition in one figure. Hint: Use sns.displot and 3 lines of code (see https://seaborn.pydata.org/generated/seaborn.distplot.html)\n",
    "\n",
    "- all conditions should have a different color \n",
    "- all conditions should have a label \n",
    "- plot only the distribution (i.e. set the hist parameter to False)"
   ]
  },
  {
   "cell_type": "code",
   "execution_count": null,
   "metadata": {},
   "outputs": [],
   "source": []
  },
  {
   "cell_type": "markdown",
   "metadata": {},
   "source": [
    "7) Backup the impression that RT increases with our task getting more cognitively demanding with the descriptive statistics. Mean results should be rounded to two decimals and fill in the respective values below:"
   ]
  },
  {
   "cell_type": "code",
   "execution_count": null,
   "metadata": {},
   "outputs": [],
   "source": []
  },
  {
   "cell_type": "code",
   "execution_count": null,
   "metadata": {},
   "outputs": [],
   "source": []
  },
  {
   "cell_type": "code",
   "execution_count": null,
   "metadata": {},
   "outputs": [],
   "source": []
  },
  {
   "cell_type": "code",
   "execution_count": null,
   "metadata": {},
   "outputs": [],
   "source": [
    "conditions = [\"baseline\", \"stay\", \"switch\"]\n",
    "\n",
    "print(\"{}-RT: \".format() + str()\n",
    "print(\"{}-RT: \".format() + str()\n",
    "print(\"{}-RT: \".format() + str()"
   ]
  },
  {
   "cell_type": "markdown",
   "metadata": {},
   "source": [
    "8) List comprehension\n",
    "\n",
    "- create a new random column that contains \"yes\" if a participant has more at least 95% accuracy in Baseline and Switch trials and \"no\" if not. Afterwards, print a list that contains only those subjects with a \"yes\" in your new column. "
   ]
  },
  {
   "cell_type": "code",
   "execution_count": null,
   "metadata": {},
   "outputs": [],
   "source": []
  },
  {
   "cell_type": "code",
   "execution_count": null,
   "metadata": {},
   "outputs": [],
   "source": []
  },
  {
   "cell_type": "markdown",
   "metadata": {},
   "source": [
    "9) Correlate \"Switchcost_RT\" and \"Switchrate\" using the stats module. Please check whether both variables follow a normal distribution and choose either pearson or spearman correlation accordingly. "
   ]
  },
  {
   "cell_type": "code",
   "execution_count": null,
   "metadata": {},
   "outputs": [],
   "source": []
  },
  {
   "cell_type": "code",
   "execution_count": null,
   "metadata": {},
   "outputs": [],
   "source": []
  },
  {
   "cell_type": "code",
   "execution_count": null,
   "metadata": {},
   "outputs": [],
   "source": []
  },
  {
   "cell_type": "markdown",
   "metadata": {},
   "source": [
    "9.1 Now visualize the association of both variables using sns.jointplot (see https://seaborn.pydata.org/generated/seaborn.jointplot.html)"
   ]
  },
  {
   "cell_type": "code",
   "execution_count": null,
   "metadata": {},
   "outputs": [],
   "source": []
  },
  {
   "cell_type": "markdown",
   "metadata": {},
   "source": [
    "10) Try to create a correlation matrix for your whole dataframe. "
   ]
  },
  {
   "cell_type": "code",
   "execution_count": null,
   "metadata": {},
   "outputs": [],
   "source": []
  },
  {
   "cell_type": "markdown",
   "metadata": {},
   "source": [
    "11) Create a new data frame \"wide\" consisting of the columns defined below. Then, set the index of \"wide\" to the subject index. Afterwards, use the `.stack()` method to create a new series called \"long\". Then, turn the series to a data frame. Finally, reset the index to numbers as before and rename the columns in a sensible way."
   ]
  },
  {
   "cell_type": "code",
   "execution_count": null,
   "metadata": {},
   "outputs": [],
   "source": [
    "col = [\"MeanRT_Baseline\", \"MeanRT_Stay\", \"MeanRT_Switch\", \"subj_idx\"]\n",
    "\n"
   ]
  },
  {
   "cell_type": "markdown",
   "metadata": {},
   "source": [
    "12) Now our data is in the right format to easily plot multiple conditions (e.g., from a repeated measurement design) in one figure, i.e. next to each other. Try to use ```sns.violinplot```to plot all conditions and RTs."
   ]
  },
  {
   "cell_type": "code",
   "execution_count": null,
   "metadata": {},
   "outputs": [],
   "source": []
  }
 ],
 "metadata": {
  "kernelspec": {
   "display_name": "Python 3",
   "language": "python",
   "name": "python3"
  },
  "language_info": {
   "codemirror_mode": {
    "name": "ipython",
    "version": 3
   },
   "file_extension": ".py",
   "mimetype": "text/x-python",
   "name": "python",
   "nbconvert_exporter": "python",
   "pygments_lexer": "ipython3",
   "version": "3.6.9"
  }
 },
 "nbformat": 4,
 "nbformat_minor": 2
}
