{
 "cells": [
  {
   "cell_type": "markdown",
   "metadata": {},
   "source": [
    "# Python for Psychologists - Session 5\n",
    "## Homework assignment"
   ]
  },
  {
   "cell_type": "markdown",
   "metadata": {},
   "source": [
    "**Exercise 1.**\n",
    "\n",
    "Write a function that returns the *sum* of all integers inside a list. Of course, Python already has a functon implemented that does this (`sum()`). Anyway, in order to get some more experience, try to write a function of your own that sums up all numbers of a list without using the built-in `sum()` function."
   ]
  },
  {
   "cell_type": "code",
   "execution_count": null,
   "metadata": {
    "collapsed": true
   },
   "outputs": [],
   "source": []
  },
  {
   "cell_type": "markdown",
   "metadata": {},
   "source": [
    "**Exercise 2.**\n",
    "\n",
    "Write a function that returns the *mean* of a list of numbers. Of course, there are already functions that calculate means implemented in Python, but just for the \"fun\" of it, don't use any pre-existing functions and write one yourself using your self-made function from exercise 1! In case you didn't succeed in exercise 1 (and only then!) your are allowed to use the built-in `sum()` function inside the function definition."
   ]
  },
  {
   "cell_type": "code",
   "execution_count": null,
   "metadata": {
    "collapsed": true
   },
   "outputs": [],
   "source": []
  },
  {
   "cell_type": "markdown",
   "metadata": {},
   "source": [
    "**Exercise 3.**\n",
    "\n",
    "Now write a function that calculates the *standard deviation* of a list of numbers. Again, don't use any pre-existing functions. Remember, the formula is:\n",
    "  \n",
    "\\begin{equation*}\n",
    "\\sqrt\\frac{\\sum_{i=1}^N (x_i - \\bar x)^2}{(N-1)}\n",
    "\\end{equation*}\n",
    "\n",
    "Use your mean-function  from exercise 2 (and depending on how you want to implement the function also your sum-function from exercise 1) inside your new standard deviation function. \n",
    "\n",
    "Hint: Taking the square root of a number is the same thing as raising it to the power of 0.5.\n",
    "\n",
    "Note: In case you did not succeed in exercise 2 (and only then!) you may use a pre-existing function. In that case, write \"`from numpy import mean`\"  and use the function `mean()` inside your function definition."
   ]
  },
  {
   "cell_type": "code",
   "execution_count": null,
   "metadata": {
    "collapsed": true
   },
   "outputs": [],
   "source": []
  },
  {
   "cell_type": "markdown",
   "metadata": {},
   "source": [
    "**Exercise 4.**\n",
    "\n",
    "Write a function that accepts a list of numbers and that returns a list of each numbers distance from the mean in terms of the standard deviation (i.e., how many standard deviations is that respective number away from the mean of the list). That is, if the input is [1,55,22,25,2,6,18] then the first position of the list that is created should be roughly [-0.9268, 1.9448, 0.1899, ...] (these numbers here are currently rounded to their 4 <sup>th</sup> digit).\n",
    "Use your previously defined functions to do this! \n",
    "\n",
    "Note: In case you did not succeed in exercise 4 (and only then!) you may use a pre-existing function for the standard deviation. In that case write `from numpy import std` and use the function `std()` to get the standard deviation of a list of numbers."
   ]
  },
  {
   "cell_type": "code",
   "execution_count": null,
   "metadata": {
    "collapsed": true
   },
   "outputs": [],
   "source": []
  },
  {
   "cell_type": "markdown",
   "metadata": {},
   "source": [
    "**Exercise 5.**\n",
    "\n",
    "Write a function that accepts a list and returns a list of the unique elements inside the list."
   ]
  },
  {
   "cell_type": "code",
   "execution_count": null,
   "metadata": {
    "collapsed": true
   },
   "outputs": [],
   "source": []
  },
  {
   "cell_type": "markdown",
   "metadata": {},
   "source": [
    "## Optional exercises"
   ]
  },
  {
   "cell_type": "markdown",
   "metadata": {},
   "source": [
    "**Exercise 6.**\n",
    "\n",
    "Write a function that takes a list of numbers and calculates either the mean or the median, depending on a keyword argument of the function. Make \"mean\" the default setting.\n",
    "\n",
    "To speed things up, we can simply import the mean() and the median() functions from numpy and use them for this exercise."
   ]
  },
  {
   "cell_type": "code",
   "execution_count": 74,
   "metadata": {
    "collapsed": true
   },
   "outputs": [],
   "source": [
    "from numpy import mean, median"
   ]
  }
 ],
 "metadata": {
  "kernelspec": {
   "display_name": "Python 3",
   "language": "python",
   "name": "python3"
  },
  "language_info": {
   "codemirror_mode": {
    "name": "ipython",
    "version": 3
   },
   "file_extension": ".py",
   "mimetype": "text/x-python",
   "name": "python",
   "nbconvert_exporter": "python",
   "pygments_lexer": "ipython3",
   "version": "3.5.4"
  }
 },
 "nbformat": 4,
 "nbformat_minor": 2
}
