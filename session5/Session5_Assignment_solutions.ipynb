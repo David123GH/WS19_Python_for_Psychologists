{
 "cells": [
  {
   "cell_type": "markdown",
   "metadata": {},
   "source": [
    "# Python for Psychologists - Session 5\n",
    "## Homework assignment"
   ]
  },
  {
   "cell_type": "markdown",
   "metadata": {},
   "source": [
    "**Exercise 1.**\n",
    "\n",
    "Write a function that returns the *sum* of all integers inside a list. Of course, Python already has a functon implemented that does this (`sum()`). Anyway, in order to get some more experience, try to write a function of your own that sums up all numbers of a list without using the built-in `sum()` function."
   ]
  },
  {
   "cell_type": "code",
   "execution_count": 1,
   "metadata": {},
   "outputs": [
    {
     "data": {
      "text/plain": [
       "17"
      ]
     },
     "execution_count": 1,
     "metadata": {},
     "output_type": "execute_result"
    }
   ],
   "source": [
    "def calc_sum(list_of_numbers):\n",
    "    s = 0\n",
    "    for number in list_of_numbers:\n",
    "        s += number\n",
    "    return s\n",
    "\n",
    "calc_sum([5,2,3,7])"
   ]
  },
  {
   "cell_type": "markdown",
   "metadata": {},
   "source": [
    "**Exercise 2.**\n",
    "\n",
    "Write a function that returns the *mean* of a list of numbers. Of course, there are already functions that calculate means implemented in Python, but just for the \"fun\" of it, don't use any pre-existing functions and write one yourself using your self-made function from exercise 1! In case you didn't succeed in exercise 1 (and only then!) your are allowed to use the built-in `sum()` function inside the function definition."
   ]
  },
  {
   "cell_type": "code",
   "execution_count": 2,
   "metadata": {},
   "outputs": [
    {
     "data": {
      "text/plain": [
       "3.0"
      ]
     },
     "execution_count": 2,
     "metadata": {},
     "output_type": "execute_result"
    }
   ],
   "source": [
    "def calc_mean(list_of_numbers):\n",
    "    return calc_sum(list_of_numbers)/len(list_of_numbers)\n",
    "\n",
    "calc_mean([1,2,3,4,5])"
   ]
  },
  {
   "cell_type": "markdown",
   "metadata": {},
   "source": [
    "**Exercise 3.**\n",
    "\n",
    "Now write a function that calculates the *standard deviation* of a list of numbers. Again, don't use any pre-existing functions. Remember, the formula is:\n",
    "  \n",
    "\\begin{equation*}\n",
    "\\sqrt\\frac{\\sum_{i=1}^N (x_i - \\bar x)^2}{(N-1)}\n",
    "\\end{equation*}\n",
    "\n",
    "Use your mean-function  from exercise 2 (and depending on how you want to implement the function also your sum-function from exercise 1) inside your new standard deviation function. \n",
    "\n",
    "Hint: Taking the square root of a number is the same thing as raising it to the power of 0.5.\n",
    "\n",
    "Note: In case you did not succeed in exercise 2 (and only then!) you may use a pre-existing function. In that case, write \"`from numpy import mean`\"  and use the function `mean()` inside your function definition."
   ]
  },
  {
   "cell_type": "code",
   "execution_count": 70,
   "metadata": {},
   "outputs": [
    {
     "data": {
      "text/plain": [
       "197.14156513352705"
      ]
     },
     "execution_count": 70,
     "metadata": {},
     "output_type": "execute_result"
    }
   ],
   "source": [
    "def calc_sd(list_of_numbers):\n",
    "    m = calc_mean(list_of_numbers)\n",
    "    n = len(list_of_numbers)\n",
    "    sumsquares = calc_sum([(number-m)**2 for number in list_of_numbers])\n",
    "    return (sumsquares/(n-1))**0.5\n",
    "calc_sd([1,55,33,11,767,23,65,33,44,16,45,82,37,3])"
   ]
  },
  {
   "cell_type": "markdown",
   "metadata": {},
   "source": [
    "**Exercise 4.**\n",
    "\n",
    "Write a function that accepts a list of numbers and that returns a list of each number's distance from the mean in terms of the standard deviation (i.e., how many standard deviations is that respective number away from the mean of the list). That is, if the input is [1,55,22,25,2,6,18] then the first position of the list that is created should be roughly [-0.9268, 1.9448, 0.1899, ...] (these numbers here are currently rounded to their 4 <sup>th</sup> digit).\n",
    "Use your previously defined functions to do this! \n",
    "\n",
    "Note: In case you did not succeed in exercise 4 (and only then!) you may use a pre-existing function for the standard deviation. In that case write `from numpy import std` and use the function `std()` to get the standard deviation of a list of numbers."
   ]
  },
  {
   "cell_type": "code",
   "execution_count": 61,
   "metadata": {},
   "outputs": [
    {
     "data": {
      "text/plain": [
       "[-0.9268169453908104,\n",
       " 1.9447962132790777,\n",
       " 0.18992150520303502,\n",
       " 0.34945556957358437,\n",
       " -0.8736389239339606,\n",
       " -0.6609268381065615,\n",
       " -0.02279058062436411]"
      ]
     },
     "execution_count": 61,
     "metadata": {},
     "output_type": "execute_result"
    }
   ],
   "source": [
    "def calc_z(list_of_numbers):\n",
    "    raw_devs = [number - calc_mean(list_of_numbers) for number in list_of_numbers]\n",
    "    scales_devs = [dev/calc_sd(list_of_numbers) for dev in raw_devs]\n",
    "    return scales_devs\n",
    "\n",
    "calc_z([1,55,22,25,2,6,18])"
   ]
  },
  {
   "cell_type": "markdown",
   "metadata": {},
   "source": [
    "**Exercise 5.**\n",
    "\n",
    "Write a function that accepts a list and returns a list of the unique elements inside the list."
   ]
  },
  {
   "cell_type": "code",
   "execution_count": 87,
   "metadata": {},
   "outputs": [
    {
     "data": {
      "text/plain": [
       "[1, 3, 4, 5, 6, 8]"
      ]
     },
     "execution_count": 87,
     "metadata": {},
     "output_type": "execute_result"
    }
   ],
   "source": [
    "def unique(some_list):\n",
    "    return list(set(some_list))\n",
    "\n",
    "unique([1,1,1,5,6,3,6,6,4,5,3,8])"
   ]
  },
  {
   "cell_type": "markdown",
   "metadata": {},
   "source": [
    "## Optional exercises"
   ]
  },
  {
   "cell_type": "markdown",
   "metadata": {},
   "source": [
    "**Exercise 6.**\n",
    "\n",
    "Write a function that takes a list of numbers and calculates either the mean or the median, depending on a keyword argument of the function. Make \"mean\" the default setting.\n",
    "\n",
    "To speed things up, we can simply import the mean() and the median() functions from numpy and use them for this exercise."
   ]
  },
  {
   "cell_type": "code",
   "execution_count": 2,
   "metadata": {
    "collapsed": true
   },
   "outputs": [],
   "source": [
    "from numpy import mean, median"
   ]
  },
  {
   "cell_type": "code",
   "execution_count": 4,
   "metadata": {},
   "outputs": [
    {
     "data": {
      "text/plain": [
       "7.5"
      ]
     },
     "execution_count": 4,
     "metadata": {},
     "output_type": "execute_result"
    }
   ],
   "source": [
    "def central_tendency(values, method=mean):\n",
    "    return method(values)\n",
    "\n",
    "central_tendency([1,2,3,4,5,6,7,8,9,6,10,13,10,10,9,8], method=median)\n"
   ]
  }
 ],
 "metadata": {
  "kernelspec": {
   "display_name": "Python 3",
   "language": "python",
   "name": "python3"
  },
  "language_info": {
   "codemirror_mode": {
    "name": "ipython",
    "version": 3
   },
   "file_extension": ".py",
   "mimetype": "text/x-python",
   "name": "python",
   "nbconvert_exporter": "python",
   "pygments_lexer": "ipython3",
   "version": "3.5.4"
  }
 },
 "nbformat": 4,
 "nbformat_minor": 2
}
