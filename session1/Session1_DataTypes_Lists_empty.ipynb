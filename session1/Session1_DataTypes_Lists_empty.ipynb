{
 "cells": [
  {
   "cell_type": "markdown",
   "metadata": {},
   "source": [
    "# Python for Psychologists - Session 1\n",
    "## Introduction to data types and lists"
   ]
  },
  {
   "cell_type": "markdown",
   "metadata": {},
   "source": [
    "### Handling the Jupyter Notebook"
   ]
  },
  {
   "cell_type": "markdown",
   "metadata": {},
   "source": [
    "Jupyter Notebooks will serve us as our primary Python editor during most of our sessions. Notebooks are run by the web browser, however there is no need to be connected to the internet. The web browser is simply the application that reads the .ipynb files. \n",
    "\n",
    "Notebooks consist of cells which can be filled with text. There are two types of cells:\n",
    "- code cells\n",
    "- markdown cells\n",
    "\n",
    "The text that is written into code cells will be interpreted as code and, hence, executed. The text that is written into markdown cells will be interpreted as markdown text (for more information on the markdown markup language see [here](https://en.wikipedia.org/wiki/Markdown) or [here](https://guides.github.com/features/mastering-markdown/))."
   ]
  },
  {
   "cell_type": "markdown",
   "metadata": {},
   "source": [
    "The easiest way to work inside a jupyter notebook is to use shortcuts. As you can see, there is also a drop-down menu, but it is really much easier to just use the keyboard. In order to execute a cell, mark it and press **\"shift\"** and **\"enter\"**. A non-editable output line will appear below the cell. Type \"blabla\" (or anything else surrounded by quotation marks) into the cell below and execute it."
   ]
  },
  {
   "cell_type": "code",
   "execution_count": null,
   "metadata": {
    "collapsed": true
   },
   "outputs": [],
   "source": []
  },
  {
   "cell_type": "markdown",
   "metadata": {},
   "source": [
    "In order to create a new cell above the currently marked cell press \"Esc\" and \"a\" (for **a**bove). If you need a cell below the currently marked cell, press \"Esc\" and \"b\" (for **b**elow). If you would like to delete a cell, press \"Esc\" and \"x\". Try to create a cell below this cell."
   ]
  },
  {
   "cell_type": "markdown",
   "metadata": {},
   "source": [
    "If you want to change the mode of a cell from \"code\" to markdown, mark the cell and press \"Esc\" and \"m\" (for **m**arkdown). If you want to change the mode of a cell from \"markdown\" to \"code\" press \"Esc\" and \"y\" (as in \"**y** the hell is it 'y' and not 'c'?!?\"). Try to change the mode of this very cell to code and back to markdown again."
   ]
  },
  {
   "cell_type": "markdown",
   "metadata": {},
   "source": [
    "### Data types\n",
    "Data types refer to the kind of content an object like a variable contains. \n",
    "\n",
    "The following data types can be distinguished:\n",
    "- integers (e.g., 1, 56, 265, -5, -1194)\n",
    "- floating-point numbers (e.g., 1.0, 56.0, 265.9, -5.62, -1194.7275135)\n",
    "- strings (e.g., \"hello!\", \"Strings start and end with quotation marks!\")\n",
    "- Boolean (True, False)\n",
    " \n",
    "If we are not sure, what kind of data type an object contains, we can use the `type()` command.\n",
    " "
   ]
  },
  {
   "cell_type": "markdown",
   "metadata": {
    "collapsed": true
   },
   "source": [
    "#### Integers\n",
    "\n",
    "To give a quick definition: integers are natural numbers, however they include not only the positive but also the negative number range. So integers could be numbers like: 1, -327, 46, 9, 1000, -9947\n",
    "\n"
   ]
  },
  {
   "cell_type": "markdown",
   "metadata": {},
   "source": [
    "Let's do some easy calculations! Also try the `type()` function on an integer."
   ]
  },
  {
   "cell_type": "code",
   "execution_count": null,
   "metadata": {
    "collapsed": true
   },
   "outputs": [],
   "source": []
  },
  {
   "cell_type": "markdown",
   "metadata": {},
   "source": [
    "#### Floating-point numbers\n",
    "\n",
    "Simple definition: all kinds of numbers that include a dot. Again, let's do some calculations and check the type."
   ]
  },
  {
   "cell_type": "code",
   "execution_count": null,
   "metadata": {
    "collapsed": true
   },
   "outputs": [],
   "source": []
  },
  {
   "cell_type": "markdown",
   "metadata": {},
   "source": [
    "#### Strings\n",
    "\n",
    "Strings are basically text elements, from letters to words to sentences. In order to define a string, Python needs quotation marks. You can coose between `\"` and `'` as both will work usually.\n",
    "\n",
    "Interestingly, in Python we can still do some math with strings. Well, not in the conventional way, but see for yourself..."
   ]
  },
  {
   "cell_type": "code",
   "execution_count": null,
   "metadata": {
    "collapsed": true
   },
   "outputs": [],
   "source": []
  },
  {
   "cell_type": "markdown",
   "metadata": {},
   "source": [
    "#### Boolean\n",
    "\n",
    "While there are many many many possible strings and numbers, a Boolean can only have one of two values: True and False. That is, a Boolean says something about whether something is the case or not. It's easier to understand with some examples. First try the `type()` command with a Boolean as an argument."
   ]
  },
  {
   "cell_type": "code",
   "execution_count": null,
   "metadata": {
    "collapsed": true
   },
   "outputs": [],
   "source": []
  },
  {
   "cell_type": "markdown",
   "metadata": {},
   "source": [
    "With Booleans we can check if something is true or not. We can check our assumption about all kinds of data types.\n",
    "We can check whether two things are the same using \"==\", whether one thing is bigger than the other using \">\" or \"<\", whether two things are NOT equal using \"!=\", etc.\n",
    "\n",
    "Try to check an assumption with...\n",
    "\n",
    "... integers!"
   ]
  },
  {
   "cell_type": "code",
   "execution_count": null,
   "metadata": {
    "collapsed": true
   },
   "outputs": [],
   "source": []
  },
  {
   "cell_type": "markdown",
   "metadata": {},
   "source": [
    "... strings!"
   ]
  },
  {
   "cell_type": "code",
   "execution_count": null,
   "metadata": {
    "collapsed": true
   },
   "outputs": [],
   "source": []
  },
  {
   "cell_type": "markdown",
   "metadata": {},
   "source": [
    "... floats!"
   ]
  },
  {
   "cell_type": "code",
   "execution_count": null,
   "metadata": {
    "collapsed": true
   },
   "outputs": [],
   "source": []
  },
  {
   "cell_type": "markdown",
   "metadata": {},
   "source": [
    "... Booleans!"
   ]
  },
  {
   "cell_type": "code",
   "execution_count": null,
   "metadata": {
    "collapsed": true
   },
   "outputs": [],
   "source": []
  },
  {
   "cell_type": "markdown",
   "metadata": {},
   "source": [
    "Interestingly, `True` and `False` also have numeric values! `True` has a value of `1` and `False` has a value of `0`. \n",
    "Try to do some math with Booleans!"
   ]
  },
  {
   "cell_type": "code",
   "execution_count": null,
   "metadata": {
    "collapsed": true
   },
   "outputs": [],
   "source": []
  },
  {
   "cell_type": "markdown",
   "metadata": {},
   "source": [
    "#### Converting types\n",
    "Once we have defined something as a certain type we are not stuck with it forever.\n",
    "We can use\n",
    "- `str()` to convert something into a string\n",
    "- `int()` to convert something into an integer\n",
    "- `float()` to convert something into a float\n",
    "- `bool()` to convert something into a Boolean.\n",
    "\n",
    "Go ahead and try some things!"
   ]
  },
  {
   "cell_type": "code",
   "execution_count": null,
   "metadata": {
    "collapsed": true
   },
   "outputs": [],
   "source": []
  },
  {
   "cell_type": "markdown",
   "metadata": {},
   "source": [
    "### Defining Variables\n",
    "\n",
    "In order to make our lives easier we usually store content in variables. Variables are defined by `=`. That is why when we compared two contents in the \"Boolean\" section we used `==` rather than `=`, simply because they refer to two different things. '==' refers to a comparison of two values, while '=' is an *assignment* of a value to a variable.\n",
    "  \n",
    "Create a variable that contains a string."
   ]
  },
  {
   "cell_type": "code",
   "execution_count": null,
   "metadata": {
    "collapsed": true
   },
   "outputs": [],
   "source": []
  },
  {
   "cell_type": "markdown",
   "metadata": {},
   "source": [
    "In order to see the content of a variable, we can simply evaluate it."
   ]
  },
  {
   "cell_type": "code",
   "execution_count": null,
   "metadata": {
    "collapsed": true
   },
   "outputs": [],
   "source": []
  },
  {
   "cell_type": "markdown",
   "metadata": {},
   "source": [
    "Variables can be overwritten. Try to give your variable a new string content and evaluate the variable afterwards."
   ]
  },
  {
   "cell_type": "code",
   "execution_count": null,
   "metadata": {
    "collapsed": true
   },
   "outputs": [],
   "source": []
  },
  {
   "cell_type": "markdown",
   "metadata": {},
   "source": [
    "Now create a second variable that contains a different string."
   ]
  },
  {
   "cell_type": "code",
   "execution_count": null,
   "metadata": {
    "collapsed": true
   },
   "outputs": [],
   "source": []
  },
  {
   "cell_type": "markdown",
   "metadata": {},
   "source": [
    "Now try to add the two variables together."
   ]
  },
  {
   "cell_type": "code",
   "execution_count": null,
   "metadata": {
    "collapsed": true
   },
   "outputs": [],
   "source": []
  },
  {
   "cell_type": "markdown",
   "metadata": {},
   "source": [
    "Now add some additional strings in between and try to form a (more or less) sensible sentence."
   ]
  },
  {
   "cell_type": "code",
   "execution_count": null,
   "metadata": {
    "collapsed": true
   },
   "outputs": [],
   "source": []
  },
  {
   "cell_type": "markdown",
   "metadata": {},
   "source": [
    "Create two different variables that contain either integers or floats and multiply the two variables. Use only one cell. "
   ]
  },
  {
   "cell_type": "code",
   "execution_count": null,
   "metadata": {
    "collapsed": true
   },
   "outputs": [],
   "source": []
  },
  {
   "cell_type": "markdown",
   "metadata": {
    "collapsed": true
   },
   "source": [
    "### Data structures\n",
    "\n",
    "Data structures refer to the format in which we would like to save our content of interest (aka data). All of these are ways to store information:\n",
    "- lists\n",
    "- tuples\n",
    "- dictionaries\n",
    "- sets\n",
    "- data frames\n",
    "- arrays\n",
    "- ...\n",
    "\n",
    "In this first session we will concentrate on **lists** only."
   ]
  },
  {
   "cell_type": "markdown",
   "metadata": {},
   "source": [
    "#### Lists\n",
    "Lists are collections of pieces of content. Lists can contain any kind of data. They are created by \"[ ]\". For example like this:\n",
    "\n",
    "some_list = [\"bananas\", 365, [1,2,3,4]]\n"
   ]
  },
  {
   "cell_type": "markdown",
   "metadata": {},
   "source": [
    "Let's create a list of the participants of this session. Then, check what `type()` the created variable contains."
   ]
  },
  {
   "cell_type": "code",
   "execution_count": 19,
   "metadata": {
    "collapsed": true
   },
   "outputs": [],
   "source": []
  },
  {
   "cell_type": "markdown",
   "metadata": {},
   "source": [
    "Let's look at how long the list is (i.e., how many participants there are). Use the command `len()`."
   ]
  },
  {
   "cell_type": "code",
   "execution_count": null,
   "metadata": {
    "collapsed": true
   },
   "outputs": [],
   "source": []
  },
  {
   "cell_type": "markdown",
   "metadata": {},
   "source": [
    "In order to access the n<sup>th</sup> element of a list we can use *indexing* as follows: \n",
    "`some_list[n-1]`\n",
    "\n",
    "You might be wondering why we use n-1 instead of n for indexing the n<sup>th</sup> position. The reason is that Python starts counting at 0, not at 1! That is, the first element in a list is indexed by `some_list[0]`.\n",
    "\n",
    "Try to fetch the 3rd element of our list."
   ]
  },
  {
   "cell_type": "code",
   "execution_count": null,
   "metadata": {
    "collapsed": true
   },
   "outputs": [],
   "source": []
  },
  {
   "cell_type": "markdown",
   "metadata": {},
   "source": [
    "We can also use *slicing* to fetch a whole bunch of consecutive elements. In order to fetch all elements between the n<sup>th</sup> and the m<sup>th</sup> position write:\n",
    "\n",
    "`list[n-1:(m+1)]`"
   ]
  },
  {
   "cell_type": "markdown",
   "metadata": {},
   "source": [
    "Try and fetch the 2<sup>nd</sup> to 4<sup>th</sup> element of the list."
   ]
  },
  {
   "cell_type": "code",
   "execution_count": null,
   "metadata": {
    "collapsed": true
   },
   "outputs": [],
   "source": []
  },
  {
   "cell_type": "markdown",
   "metadata": {},
   "source": [
    "We can also use \"open-ended\" slicing. For example, in order to fetch all elements starting from the 3rd element we write `list[2:]`.\n",
    "\n",
    "Try to fetch all elements starting from the 2nd element in our list."
   ]
  },
  {
   "cell_type": "code",
   "execution_count": null,
   "metadata": {
    "collapsed": true
   },
   "outputs": [],
   "source": []
  },
  {
   "cell_type": "markdown",
   "metadata": {},
   "source": [
    "If you are interested in every element before the n<sup>th</sup> element (excluding the n<sup>th</sup> element itself) we can write `list[:n]`."
   ]
  },
  {
   "cell_type": "code",
   "execution_count": null,
   "metadata": {
    "collapsed": true
   },
   "outputs": [],
   "source": []
  },
  {
   "cell_type": "markdown",
   "metadata": {},
   "source": [
    "Moreover, we can access the next to last element by using the index `-2`. Careful! When indexing starts at the other end of the list using \"-\", Python doesn't start counting from 0."
   ]
  },
  {
   "cell_type": "code",
   "execution_count": null,
   "metadata": {
    "collapsed": true
   },
   "outputs": [],
   "source": []
  },
  {
   "cell_type": "markdown",
   "metadata": {},
   "source": [
    "We can easily replace an element by someting else, if we want. Replace the second element of our list by the name of your favourite fruit (or just ANY other string). Take a look at the list again."
   ]
  },
  {
   "cell_type": "code",
   "execution_count": null,
   "metadata": {
    "collapsed": true
   },
   "outputs": [],
   "source": []
  },
  {
   "cell_type": "markdown",
   "metadata": {},
   "source": [
    "We can also check some assumptions using lists. For example you might be interested in if your best friend is also taking part in this seminar (and, hence, is part of this list). \n",
    "Use the following syntax:\n",
    "\n",
    "`some_potential_element in some_list`"
   ]
  },
  {
   "cell_type": "code",
   "execution_count": null,
   "metadata": {
    "collapsed": true
   },
   "outputs": [],
   "source": []
  },
  {
   "cell_type": "markdown",
   "metadata": {},
   "source": [
    "Something rather Python-specific is that strings can be very easily indexed, just like a list! If we want to fetch the second letter in the string `\"string\"` we'll write `\"string[1]\"`.\n",
    "\n",
    "Come up with a random string and try to fetch one single letter."
   ]
  },
  {
   "cell_type": "code",
   "execution_count": null,
   "metadata": {
    "collapsed": true
   },
   "outputs": [],
   "source": []
  },
  {
   "cell_type": "markdown",
   "metadata": {},
   "source": [
    "As with lists, we can ask Python to give us the length of a certain string by using the `len()` command."
   ]
  },
  {
   "cell_type": "code",
   "execution_count": null,
   "metadata": {
    "collapsed": true
   },
   "outputs": [],
   "source": []
  },
  {
   "cell_type": "markdown",
   "metadata": {},
   "source": [
    "Oooops, someone was late for our Python class and just entered the room. Looks like we have to update our list. Easy-peasy! We can add elements to a list with the following syntax:\n",
    "\n",
    "`list.append(element_to_be_added)`\n",
    "\n",
    "Let's try this and add \"new guy\" to our list. Let's look at the list afterwards to see if this had the effect we wanted."
   ]
  },
  {
   "cell_type": "code",
   "execution_count": null,
   "metadata": {
    "collapsed": true
   },
   "outputs": [],
   "source": []
  }
 ],
 "metadata": {
  "kernelspec": {
   "display_name": "Python 3",
   "language": "python",
   "name": "python3"
  },
  "language_info": {
   "codemirror_mode": {
    "name": "ipython",
    "version": 3
   },
   "file_extension": ".py",
   "mimetype": "text/x-python",
   "name": "python",
   "nbconvert_exporter": "python",
   "pygments_lexer": "ipython3",
   "version": "3.5.4"
  }
 },
 "nbformat": 4,
 "nbformat_minor": 2
}
