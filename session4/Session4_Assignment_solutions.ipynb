{
 "cells": [
  {
   "cell_type": "markdown",
   "metadata": {},
   "source": [
    "# Python for Psychologists - Session 4\n",
    "## Homework assignment"
   ]
  },
  {
   "cell_type": "markdown",
   "metadata": {},
   "source": [
    "**Exercise 1.** Write a for loop that iterates through the list below. Whenever the type of the element is `str`, print \"It's a string!\", whenever it is `int` print \"It's an integer!\". Note: don't put `str` and `int` in quoation marks!"
   ]
  },
  {
   "cell_type": "code",
   "execution_count": 11,
   "metadata": {
    "collapsed": true
   },
   "outputs": [],
   "source": [
    "my_list = [1, \"gin\", 2, \"beer\", 3, 4, 5]"
   ]
  },
  {
   "cell_type": "code",
   "execution_count": 12,
   "metadata": {},
   "outputs": [
    {
     "name": "stdout",
     "output_type": "stream",
     "text": [
      "It's an integer!\n",
      "It's a string!\n",
      "It's an integer!\n",
      "It's a string!\n",
      "It's an integer!\n",
      "It's an integer!\n",
      "It's an integer!\n"
     ]
    }
   ],
   "source": [
    "for element in my_list:\n",
    "    if type(element) == str:\n",
    "        print(\"It's a string!\")\n",
    "    elif type(element) == int:\n",
    "        print(\"It's an integer!\")"
   ]
  },
  {
   "cell_type": "markdown",
   "metadata": {},
   "source": [
    "**Exercise 2.** You are probably familiar with the well known, highly sophisticated musical composition of \"99 bottles of beer on the wall\" (if you are not: go to youtube and familiarize yourself with it). In its original form the song starts counting from 99 to 0 like this:\n",
    "\n",
    "*99 bottles of beer on the wall, 99 bottles of beer. Take one down, pass it around, 98 bottles of beer on the wall.*\n",
    "\n",
    "*98 bottles of beer on the wall, 98 bottles of beer. Take one down, pass it around, 97 bottles of beer on the wall.*\n",
    "\n",
    "*97 bottles of beer on the wall, 97 bottles of beer. Take one down, pass it around, 96 bottles of beer on the wall.*\n",
    "\n",
    "... and so forth.\n",
    "\n",
    "Write a for loop, that prints the songtext of the song (always 1 of the lines above, so 1 verse, per iteration). As it's still a weekday, it should suffice to drink only 20 bottles. Ideally, in the last line (when the last bottle of beer is reached) you will have to print \"bottle\" instead of \"bottles\"."
   ]
  },
  {
   "cell_type": "code",
   "execution_count": 22,
   "metadata": {},
   "outputs": [
    {
     "name": "stdout",
     "output_type": "stream",
     "text": [
      "20 bottles of beer on the wall, 20 bottles of beer. Take one down, pass it around, 19 bottles of beer on the wall.\n",
      "19 bottles of beer on the wall, 19 bottles of beer. Take one down, pass it around, 18 bottles of beer on the wall.\n",
      "18 bottles of beer on the wall, 18 bottles of beer. Take one down, pass it around, 17 bottles of beer on the wall.\n",
      "17 bottles of beer on the wall, 17 bottles of beer. Take one down, pass it around, 16 bottles of beer on the wall.\n",
      "16 bottles of beer on the wall, 16 bottles of beer. Take one down, pass it around, 15 bottles of beer on the wall.\n",
      "15 bottles of beer on the wall, 15 bottles of beer. Take one down, pass it around, 14 bottles of beer on the wall.\n",
      "14 bottles of beer on the wall, 14 bottles of beer. Take one down, pass it around, 13 bottles of beer on the wall.\n",
      "13 bottles of beer on the wall, 13 bottles of beer. Take one down, pass it around, 12 bottles of beer on the wall.\n",
      "12 bottles of beer on the wall, 12 bottles of beer. Take one down, pass it around, 11 bottles of beer on the wall.\n",
      "11 bottles of beer on the wall, 11 bottles of beer. Take one down, pass it around, 10 bottles of beer on the wall.\n",
      "10 bottles of beer on the wall, 10 bottles of beer. Take one down, pass it around, 9 bottles of beer on the wall.\n",
      "9 bottles of beer on the wall, 9 bottles of beer. Take one down, pass it around, 8 bottles of beer on the wall.\n",
      "8 bottles of beer on the wall, 8 bottles of beer. Take one down, pass it around, 7 bottles of beer on the wall.\n",
      "7 bottles of beer on the wall, 7 bottles of beer. Take one down, pass it around, 6 bottles of beer on the wall.\n",
      "6 bottles of beer on the wall, 6 bottles of beer. Take one down, pass it around, 5 bottles of beer on the wall.\n",
      "5 bottles of beer on the wall, 5 bottles of beer. Take one down, pass it around, 4 bottles of beer on the wall.\n",
      "4 bottles of beer on the wall, 4 bottles of beer. Take one down, pass it around, 3 bottles of beer on the wall.\n",
      "3 bottles of beer on the wall, 3 bottles of beer. Take one down, pass it around, 2 bottles of beer on the wall.\n",
      "2 bottles of beer on the wall, 2 bottles of beer. Take one down, pass it around, 1 bottles of beer on the wall.\n",
      "1 bottle of beer on the wall, 1 bottle of beer. Take it down, pass it around, 0 bottles of beer on the wall.\n"
     ]
    }
   ],
   "source": [
    "for bottles in range(20, 0, -1):\n",
    "    if bottles > 1:\n",
    "        print(str(bottles) + \" bottles of beer on the wall, \" + str(bottles) + \" bottles of beer. Take one down, pass it around, \" + str(bottles-1) + \" bottles of beer on the wall.\")\n",
    "    if bottles == 1:\n",
    "        print(str(bottles) + \" bottle of beer on the wall, \" + str(bottles) + \" bottle of beer. Take it down, pass it around, \" + str(bottles-1) + \" bottles of beer on the wall.\")"
   ]
  },
  {
   "cell_type": "markdown",
   "metadata": {},
   "source": [
    "**Exercise 3.** Write a for loop that iterates through the list below. Whenever the element is \"otter\", increase the value of the variable x (already defined below) by 1. After the for-loop is done, print the value of x."
   ]
  },
  {
   "cell_type": "code",
   "execution_count": 24,
   "metadata": {},
   "outputs": [
    {
     "name": "stdout",
     "output_type": "stream",
     "text": [
      "5\n"
     ]
    }
   ],
   "source": [
    "x=0\n",
    "animals = [\"otter\", \"dog\", \"piglet\", \"otter\", \"duckling\", \"otter\", \"hedgehog\", \"kitten\", \"otter\", \"otter\"]\n",
    "\n",
    "for animal in animals:\n",
    "    if animal == \"otter\":\n",
    "        x += 1\n",
    "print(x)"
   ]
  },
  {
   "cell_type": "markdown",
   "metadata": {},
   "source": [
    "By the way: we could have also used the following code (but then you wouldn't have practiced your loop-writing skills ;) ):\n",
    "```python\n",
    "animals.count(\"otter\")\n",
    "```\n",
    "\n",
    "The function \"count\" counts how many times a certain value occurs in a list."
   ]
  },
  {
   "cell_type": "markdown",
   "metadata": {},
   "source": [
    "**Exercise 4.**\n",
    "Use a list comprehension to create a new list which only contains those elements of the list below whose first letter is \"A\"."
   ]
  },
  {
   "cell_type": "code",
   "execution_count": 26,
   "metadata": {
    "collapsed": true
   },
   "outputs": [],
   "source": [
    "bands = [\"aerosmith\", \"black sabbath\", \"abba\", \"creedence clearwater revival\", \"a-ha\"]"
   ]
  },
  {
   "cell_type": "code",
   "execution_count": 27,
   "metadata": {},
   "outputs": [
    {
     "data": {
      "text/plain": [
       "['aerosmith', 'abba', 'a-ha']"
      ]
     },
     "execution_count": 27,
     "metadata": {},
     "output_type": "execute_result"
    }
   ],
   "source": [
    "[element for element in bands if element[0] == \"a\"]"
   ]
  },
  {
   "cell_type": "markdown",
   "metadata": {},
   "source": [
    "**Exercise 5.**\n",
    "\n",
    "Find all of the integer numbers from 1-100 that have a 3 in them. Use `range()` and a list comprehension."
   ]
  },
  {
   "cell_type": "code",
   "execution_count": 28,
   "metadata": {},
   "outputs": [
    {
     "data": {
      "text/plain": [
       "[3, 13, 23, 30, 31, 32, 33, 34, 35, 36, 37, 38, 39, 43, 53, 63, 73, 83, 93]"
      ]
     },
     "execution_count": 28,
     "metadata": {},
     "output_type": "execute_result"
    }
   ],
   "source": [
    "[x for x in range(1, 101) if \"3\" in str(x)]"
   ]
  },
  {
   "cell_type": "markdown",
   "metadata": {},
   "source": [
    "**Exercise 6.**\n",
    "\n",
    "Below there is a list with sublists. Create a new **flattened** list (using a list comprehension) that is \"otter\" if the element is otter, but \"not an otter\" if the element is not \"otter\". In the end, the result should look like this:\n",
    "\n",
    "['otter', 'not an otter', 'otter', 'not an otter' ,'otter', 'otter', ...]"
   ]
  },
  {
   "cell_type": "code",
   "execution_count": 34,
   "metadata": {},
   "outputs": [
    {
     "data": {
      "text/plain": [
       "['otter',\n",
       " 'not an otter',\n",
       " 'otter',\n",
       " 'not an otter',\n",
       " 'otter',\n",
       " 'otter',\n",
       " 'not an otter',\n",
       " 'not an otter',\n",
       " 'not an otter']"
      ]
     },
     "execution_count": 34,
     "metadata": {},
     "output_type": "execute_result"
    }
   ],
   "source": [
    "some_list = [[\"otter\", \"sheep\", \"otter\"], [\"cow\", \"otter\", \"otter\"], [\"cat\", \"fish\", \"dolphin\"]]\n",
    "[x if x == \"otter\" else \"not an otter\" for sublist in some_list for x in sublist]"
   ]
  },
  {
   "cell_type": "markdown",
   "metadata": {},
   "source": [
    "## Optional Exercises"
   ]
  },
  {
   "cell_type": "markdown",
   "metadata": {},
   "source": [
    "**Exercise 7.**\n",
    "\n",
    "Below is the `some_list` from exercise 6. Do the same thing as in exercise 6 (that is, creating a new list which lets \"otter\" be \"otter\" but replaces everything else by \"not an otter\"), HOWEVER, this time keeping the structure of the sublists inside the list."
   ]
  },
  {
   "cell_type": "code",
   "execution_count": 35,
   "metadata": {},
   "outputs": [
    {
     "data": {
      "text/plain": [
       "[['otter', 'not an otter', 'otter'],\n",
       " ['not an otter', 'otter', 'otter'],\n",
       " ['not an otter', 'not an otter', 'not an otter']]"
      ]
     },
     "execution_count": 35,
     "metadata": {},
     "output_type": "execute_result"
    }
   ],
   "source": [
    "some_list = [[\"otter\", \"sheep\", \"otter\"], [\"cow\", \"otter\", \"otter\"], [\"cat\", \"fish\", \"dolphin\"]]\n",
    "[[x if x == \"otter\" else \"not an otter\" for x in sublist] for sublist in some_list]"
   ]
  },
  {
   "cell_type": "markdown",
   "metadata": {},
   "source": [
    "**Exercise 8.** \n",
    "\n",
    "Below there are three lists. Create a fourth list that has the value \"all otters\" if all three lists have \"otter\" written at the respective position. If any (or all) of the lists has/have a different animal name at the respective position, the value of the new list should be \"not all otters\". Use `zip()` and a list comprehension."
   ]
  },
  {
   "cell_type": "code",
   "execution_count": 36,
   "metadata": {
    "collapsed": true
   },
   "outputs": [],
   "source": [
    "a = [\"otter\",\"dog\",\"otter\",\"otter\",\"whale\",\"\",\"otter\",\"shark\",\"otter\",\"gull\",\"goat\",\"chicken\"]\n",
    "b = [\"dog\",\"otter\",\"cat\",\"otter\",\"parrot\",\"ant\",\"otter\",\"blackbird\",\"eagle\",\"eel\",\"worm\",\"otter\"]\n",
    "c = [\"fish\",\"ladybug\",\"otter\",\"otter\",\"spider\",\"horse\",\"otter\",\"donkey\",\"pigeon\",\"mule\",\"mantis\",\"otter\"]"
   ]
  },
  {
   "cell_type": "code",
   "execution_count": 37,
   "metadata": {},
   "outputs": [
    {
     "data": {
      "text/plain": [
       "['not all otters',\n",
       " 'not all otters',\n",
       " 'not all otters',\n",
       " 'all otters',\n",
       " 'not all otters',\n",
       " 'not all otters',\n",
       " 'all otters',\n",
       " 'not all otters',\n",
       " 'not all otters',\n",
       " 'not all otters',\n",
       " 'not all otters',\n",
       " 'not all otters']"
      ]
     },
     "execution_count": 37,
     "metadata": {},
     "output_type": "execute_result"
    }
   ],
   "source": [
    "[\"all otters\" if a==b==c==\"otter\" else \"not all otters\" for (a,b,c) in zip (a,b,c)]"
   ]
  }
 ],
 "metadata": {
  "kernelspec": {
   "display_name": "Python 3",
   "language": "python",
   "name": "python3"
  },
  "language_info": {
   "codemirror_mode": {
    "name": "ipython",
    "version": 3
   },
   "file_extension": ".py",
   "mimetype": "text/x-python",
   "name": "python",
   "nbconvert_exporter": "python",
   "pygments_lexer": "ipython3",
   "version": "3.5.4"
  }
 },
 "nbformat": 4,
 "nbformat_minor": 2
}
