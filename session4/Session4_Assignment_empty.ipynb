{
 "cells": [
  {
   "cell_type": "markdown",
   "metadata": {},
   "source": [
    "# Python for Psychologists - Session 4\n",
    "## Homework assignment"
   ]
  },
  {
   "cell_type": "markdown",
   "metadata": {},
   "source": [
    "**Exercise 1.** Write a for loop that iterates through the list below. Whenever the type of the element is `str`, print \"It's a string!\", whenever it is `int` print \"It's an integer!\". Note: don't put `str` and `int` in quoation marks!"
   ]
  },
  {
   "cell_type": "code",
   "execution_count": 11,
   "metadata": {
    "collapsed": true
   },
   "outputs": [],
   "source": [
    "my_list = [1, \"gin\", 2, \"beer\", 3, 4, 5]"
   ]
  },
  {
   "cell_type": "code",
   "execution_count": null,
   "metadata": {
    "collapsed": true
   },
   "outputs": [],
   "source": []
  },
  {
   "cell_type": "markdown",
   "metadata": {},
   "source": [
    "**Exercise 2.** You are probably familiar with the well known, highly sophisticated musical composition of \"99 bottles of beer on the wall\" (if you are not you may go to youtube and familiarize yourself with it). In its original form the song starts counting from 99 to 0 like this:\n",
    "\n",
    "*99 bottles of beer on the wall, 99 bottles of beer. Take one down, pass it around, 98 bottles of beer on the wall.*\n",
    "\n",
    "*98 bottles of beer on the wall, 98 bottles of beer. Take one down, pass it around, 97 bottles of beer on the wall.*\n",
    "\n",
    "*97 bottles of beer on the wall, 97 bottles of beer. Take one down, pass it around, 96 bottles of beer on the wall.*\n",
    "\n",
    "... and so forth.\n",
    "\n",
    "Write a for loop, that prints the songtext of the song (always 1 of the lines above, so 1 verse, per iteration). As it's still a weekday, it should suffice to drink only 20 bottles. Ideally, in the last line (when the last bottle of beer is reached) you will have to print \"bottle\" instead of \"bottles\"."
   ]
  },
  {
   "cell_type": "code",
   "execution_count": null,
   "metadata": {
    "collapsed": true
   },
   "outputs": [],
   "source": []
  },
  {
   "cell_type": "markdown",
   "metadata": {},
   "source": [
    "**Exercise 3.** Write a for loop that iterates through the list below. Whenever the element is \"otter\", increase the value of the variable x (already defined below) by 1. After the for-loop is done, print the value of x."
   ]
  },
  {
   "cell_type": "code",
   "execution_count": 2,
   "metadata": {},
   "outputs": [],
   "source": [
    "x=0\n",
    "animals = [\"otter\", \"dog\", \"piglet\", \"otter\", \"duckling\", \"otter\", \"hedgehog\", \"kitten\", \"otter\", \"otter\"]"
   ]
  },
  {
   "cell_type": "code",
   "execution_count": null,
   "metadata": {
    "collapsed": true
   },
   "outputs": [],
   "source": []
  },
  {
   "cell_type": "markdown",
   "metadata": {},
   "source": [
    "By the way: we could have also used the following code (but then you wouldn't have practiced your loop-writing skills ;) ):\n",
    "```python\n",
    "animals.count(\"otter\")\n",
    "```\n",
    "\n",
    "The function \"count\" counts how many times a certain value occurs in a list."
   ]
  },
  {
   "cell_type": "markdown",
   "metadata": {},
   "source": [
    "**Exercise 4.**\n",
    "Use a list comprehension to create a new list which only contains those elements of the list below whose first letter is \"a\"."
   ]
  },
  {
   "cell_type": "code",
   "execution_count": 26,
   "metadata": {
    "collapsed": true
   },
   "outputs": [],
   "source": [
    "bands = [\"aerosmith\", \"black sabbath\", \"abba\", \"creedence clearwater revival\", \"a-ha\"]"
   ]
  },
  {
   "cell_type": "code",
   "execution_count": null,
   "metadata": {
    "collapsed": true
   },
   "outputs": [],
   "source": []
  },
  {
   "cell_type": "markdown",
   "metadata": {},
   "source": [
    "**Exercise 5.**\n",
    "\n",
    "Find all of the integer numbers from 1-100 that have a 3 in them. Use `range()` and a list comprehension."
   ]
  },
  {
   "cell_type": "code",
   "execution_count": null,
   "metadata": {
    "collapsed": true
   },
   "outputs": [],
   "source": []
  },
  {
   "cell_type": "markdown",
   "metadata": {},
   "source": [
    "**Exercise 6.**\n",
    "\n",
    "Below there is a list with sublists. Create a new **flattened** list (using a list comprehension) that is \"otter\" if the element is otter, but \"not an otter\" if the element is not \"otter\". In the end, the result should look like this:\n",
    "\n",
    "['otter', 'not an otter', 'otter', 'not an otter' ,'otter', 'otter', ...]"
   ]
  },
  {
   "cell_type": "code",
   "execution_count": 3,
   "metadata": {},
   "outputs": [],
   "source": [
    "some_list = [[\"otter\", \"sheep\", \"otter\"], [\"cow\", \"otter\", \"otter\"], [\"cat\", \"fish\", \"dolphin\"]]"
   ]
  },
  {
   "cell_type": "code",
   "execution_count": null,
   "metadata": {
    "collapsed": true
   },
   "outputs": [],
   "source": []
  },
  {
   "cell_type": "markdown",
   "metadata": {},
   "source": [
    "## Optional Exercises"
   ]
  },
  {
   "cell_type": "markdown",
   "metadata": {},
   "source": [
    "**Exercise 7.**\n",
    "\n",
    "Below is the `some_list` from exercise 6. Do the same thing as in exercise 6 (that is, creating a new list which lets \"otter\" be \"otter\" but replaces everything else by \"not an otter\"), HOWEVER, this time keeping the structure of the sublists inside the list."
   ]
  },
  {
   "cell_type": "code",
   "execution_count": 4,
   "metadata": {},
   "outputs": [],
   "source": [
    "some_list = [[\"otter\", \"sheep\", \"otter\"], [\"cow\", \"otter\", \"otter\"], [\"cat\", \"fish\", \"dolphin\"]]"
   ]
  },
  {
   "cell_type": "code",
   "execution_count": null,
   "metadata": {
    "collapsed": true
   },
   "outputs": [],
   "source": []
  },
  {
   "cell_type": "markdown",
   "metadata": {},
   "source": [
    "**Exercise 8.** \n",
    "\n",
    "Below there are three lists. Create a fourth list that has the value \"all otters\" if all three lists have \"otter\" written at the respective position. If any (or all) of the lists has/have a different animal name at the respective position, the value of the new list should be \"not all otters\". Use `zip()` and a list comprehension."
   ]
  },
  {
   "cell_type": "code",
   "execution_count": 36,
   "metadata": {
    "collapsed": true
   },
   "outputs": [],
   "source": [
    "a = [\"otter\",\"dog\",\"otter\",\"otter\",\"whale\",\"\",\"otter\",\"shark\",\"otter\",\"gull\",\"goat\",\"chicken\"]\n",
    "b = [\"dog\",\"otter\",\"cat\",\"otter\",\"parrot\",\"ant\",\"otter\",\"blackbird\",\"eagle\",\"eel\",\"worm\",\"otter\"]\n",
    "c = [\"fish\",\"ladybug\",\"otter\",\"otter\",\"spider\",\"horse\",\"otter\",\"donkey\",\"pigeon\",\"mule\",\"mantis\",\"otter\"]"
   ]
  },
  {
   "cell_type": "code",
   "execution_count": null,
   "metadata": {
    "collapsed": true
   },
   "outputs": [],
   "source": []
  }
 ],
 "metadata": {
  "kernelspec": {
   "display_name": "Python 3",
   "language": "python",
   "name": "python3"
  },
  "language_info": {
   "codemirror_mode": {
    "name": "ipython",
    "version": 3
   },
   "file_extension": ".py",
   "mimetype": "text/x-python",
   "name": "python",
   "nbconvert_exporter": "python",
   "pygments_lexer": "ipython3",
   "version": "3.5.4"
  }
 },
 "nbformat": 4,
 "nbformat_minor": 2
}
