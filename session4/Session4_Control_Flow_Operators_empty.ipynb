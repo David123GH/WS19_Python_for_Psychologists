{
 "cells": [
  {
   "cell_type": "markdown",
   "metadata": {},
   "source": [
    "# Python for Psychologists - Session 4\n",
    "## Control flow operators"
   ]
  },
  {
   "cell_type": "markdown",
   "metadata": {},
   "source": [
    "\n",
    "Control flow operators can be divided in\n",
    "- if-statements\n",
    "- loops\n",
    "- comprehensions\n",
    "\n"
   ]
  },
  {
   "cell_type": "markdown",
   "metadata": {},
   "source": [
    "![title](controlflowops.png)"
   ]
  },
  {
   "cell_type": "markdown",
   "metadata": {},
   "source": [
    "### If-statements\n",
    "\n",
    "Whenever the things we want to do depend on a certain circumstance if-statements come in handy! They allow us to do one thing under condition A and to do a totally different thing under condition B. The basic syntax for an if-statement looks like this:\n",
    "\n",
    "```python\n",
    "if some_condition:\n",
    "    # do\n",
    "    # something\n",
    "elif some_other condition:\n",
    "    # do \n",
    "    # something\n",
    "    # else\n",
    "else:\n",
    "    # do \n",
    "    # something\n",
    "    # different\n",
    "```\n",
    "\n",
    "The syntax above can be combined to\n",
    "- only the if-part (called an **if-statement**)\n",
    "- the if-part AND the elif-part (called an **if-elif-statement**)\n",
    "- the if-part AND the else-part (called an **if-else-statement**)\n",
    "- all parts (called an **if-elif-else-statement**)\n",
    "\n",
    "The *indenation* is, by the way, SUPER important. It tells Python the starting and ending point of each part of the if-statement. For example, after the \"else\"-part is done, we should continue to write our code on the same level as \"if\", \"elif\" and \"else\" and not on the level of the code parts between them. Otherwise Python will think that the code is still part of the things that should be executed in the \"else\" case.\n",
    "\n",
    "Let us first look at the behaviour of if-statements without asking for the evaluation of a condition. \n",
    "Let's write an **if-else-statement** replacing the \"condition\" part with `True`. Afterwards, copy the code and replace `True` by `False`."
   ]
  },
  {
   "cell_type": "code",
   "execution_count": null,
   "metadata": {
    "collapsed": true
   },
   "outputs": [],
   "source": []
  },
  {
   "cell_type": "code",
   "execution_count": null,
   "metadata": {
    "collapsed": true
   },
   "outputs": [],
   "source": []
  },
  {
   "cell_type": "markdown",
   "metadata": {},
   "source": [
    "As we can see, the code execution follows this pattern:\n",
    "- if followed by **True**: \n",
    "   - do the \"if\"-part\n",
    "    \n",
    "-----------------------------    \n",
    "    \n",
    " \n",
    "- if followed by **False**:\n",
    "   - do the \"else\"-part\n",
    "\n",
    "If no \"else\" is specified and \"if\" is followed by \"False\" then nothing is being done. "
   ]
  },
  {
   "cell_type": "markdown",
   "metadata": {},
   "source": [
    "Of course, in this setting if-statements are not very useful. For them to be useful we have to replace \"True\" and \"False\" with **conditions that can be checked**. \n",
    "\n",
    "We have already played around with assumptions. For example, we checked if certain values were part of a list:\n",
    "\n",
    "```python\n",
    "my_list = [1,2,3,4,5]\n",
    "3 in my_list\n",
    "# this would yield \"True\"\n",
    "```"
   ]
  },
  {
   "cell_type": "markdown",
   "metadata": {},
   "source": [
    "Remember that when we check assumptions the evaluation returns a Boolean like **True** or **False**, which is exactly what, finally, decides which part of the if-else-statement is being executed. Just as a quick reminder check if \"string\" has the same value as \"string\", and also if \"string\" does not have the same value as \"string\"."
   ]
  },
  {
   "cell_type": "code",
   "execution_count": null,
   "metadata": {
    "collapsed": true
   },
   "outputs": [],
   "source": []
  },
  {
   "cell_type": "code",
   "execution_count": null,
   "metadata": {
    "collapsed": true
   },
   "outputs": [],
   "source": []
  },
  {
   "cell_type": "markdown",
   "metadata": {},
   "source": [
    "Create a variable that has the value 5. Then write an **if-elif-else-statement**. In case the number is bigger than 5, have Python print \"The number is bigger than 5!\" to the console/output cell. In case the number is smaller than 5, have Python print \"The number is smaller than 5!\". In case neither is the case this would have to mean that the number IS 5, hence, Python should print something like \"The number is 5!\". Finally, play around and replace your variable with different numbers and check if Python prints the right things to the output cell."
   ]
  },
  {
   "cell_type": "code",
   "execution_count": null,
   "metadata": {
    "collapsed": true
   },
   "outputs": [],
   "source": [
    "a = ..."
   ]
  },
  {
   "cell_type": "markdown",
   "metadata": {},
   "source": [
    "Copy the code cell above and move the first print command to the same level as the \"if\" in the line above. Execute the cell."
   ]
  },
  {
   "cell_type": "code",
   "execution_count": null,
   "metadata": {
    "collapsed": true
   },
   "outputs": [],
   "source": []
  },
  {
   "cell_type": "markdown",
   "metadata": {},
   "source": [
    "We found a new error that we can add to our list, yay! `IndentationErrors` are exactley what their name tells you: it means you have messed up the indentation. "
   ]
  },
  {
   "cell_type": "markdown",
   "metadata": {},
   "source": [
    "**Nested if statements**\n",
    "\n",
    "Of course, we can also put an if-statement inside an if-statement. The schema is basically the same, only one indentation-level farther inside. \n",
    "\n",
    "Modify the code chunk above (the one without the indentation error ;)) so that after checking if the number is smaller than five, the code checks if it is even smaller than 0. Have Python print \"The number is negative!\" in addition in that case."
   ]
  },
  {
   "cell_type": "code",
   "execution_count": null,
   "metadata": {
    "collapsed": true
   },
   "outputs": [],
   "source": []
  },
  {
   "cell_type": "markdown",
   "metadata": {},
   "source": [
    "### Loops\n",
    "\n",
    "Very often when writing code we have to do something very very very often. For example, after collecting experimental data from 80 participants we will have to read in the logfile and do some changes or editting. Imagine we had to copy and paste the same code chunk 80 times. That would be one ugly and unhandy script! Luckily, we can build *loops* around certain parts of our code to communicate to Pyhton that we would like to have this code executed several times. \n",
    "\n",
    "There are two different kinds of loops. Which one to use when depends on whether we know how many times we want the code inside the loop to be repeated. There are:\n",
    "- for-loops (fixed number of iterations)\n",
    "- while-loops (no fixed number of iterations)\n",
    "\n",
    "Loops always consist of a header and a body. The header defines how many times the code inside the body will be executed.\n",
    "\n",
    "**1) For-loops**\n",
    "\n",
    "For-loops are used when we already know how many iterations we would like. The basic structure looks like this:\n",
    "\n",
    "```python\n",
    "sequence_of_elements = [\"apple\", \"banana\", \"peach\"] # this could also be a dictionary or some other container-like structure\n",
    "for element in sequence_of_elements:\n",
    "    # do\n",
    "    # some\n",
    "    # stuff\n",
    "```\n",
    "\n",
    "As you can see, the header (the \"for\"-line) defines a loop variable called \"element\" which is taken from \"sequence_of_elements\" which in this case is a list of fruits. Now, during each iteration the value that \"element\" has will change according to the order specified in the list:\n",
    "During the first iteration \"element\" will have the value \"apple\". During the second iteration, \"element\" will have the value \"banana\", and during the third iteration \"element\" will have the value \"peach\". After the third execution, the loop will halt, as it has already iterated across all \"elements\" in the \"sequence_of_elements\"."
   ]
  },
  {
   "cell_type": "markdown",
   "metadata": {},
   "source": [
    "Create a list with some random elements. Write a for-loop that iterates across the elements of the list and, with each iteration, prints the element to the output cell."
   ]
  },
  {
   "cell_type": "code",
   "execution_count": null,
   "metadata": {
    "collapsed": true
   },
   "outputs": [],
   "source": []
  },
  {
   "cell_type": "markdown",
   "metadata": {},
   "source": [
    "Instead of having a sequence object whose elements we are iterating through, we can also create iterate through a list of numbers. The `range()` function is pretty handy, as it creates a sequence of consecutive numbers. \n",
    "\n",
    "```python\n",
    "range(1,5) # creates a sequence ranging from 1 to 4\n",
    "range(5) # creates a sequence ranging from 0 to 4; i.e., 5 elements\n",
    "```\n",
    "\n",
    "By the way, if we want to create a list of consecutive numbers we can just write:\n",
    "```python\n",
    "[*range(1,5)]\n",
    "```\n",
    "\n",
    "Write a loop that iterates through the numbers from 2 to 9. Have Python print the loop variable each time."
   ]
  },
  {
   "cell_type": "code",
   "execution_count": null,
   "metadata": {
    "collapsed": true
   },
   "outputs": [],
   "source": []
  },
  {
   "cell_type": "markdown",
   "metadata": {},
   "source": [
    "The function `range()` can also be used to count backwards and/or in certain pre-defined steps. The syntax looks as follows:\n",
    "```python\n",
    "range(start_value, stop_value, step_size)\n",
    "```\n",
    "Copy the code from the last loop, this time counting from 100 to 30 in steps of 10."
   ]
  },
  {
   "cell_type": "code",
   "execution_count": null,
   "metadata": {
    "collapsed": true
   },
   "outputs": [],
   "source": []
  },
  {
   "cell_type": "markdown",
   "metadata": {},
   "source": [
    "Of course, we don't have to use the looping variable inside the body. We can also just use it to define the number of times we want to do something completely different.\n",
    "\n",
    "Write a for loop that prints the sentence \"otters are cute!\" 4 times."
   ]
  },
  {
   "cell_type": "code",
   "execution_count": null,
   "metadata": {
    "collapsed": true
   },
   "outputs": [],
   "source": []
  },
  {
   "cell_type": "markdown",
   "metadata": {},
   "source": [
    "**Nested loops**\n",
    "\n",
    "Of course, it is also possible to create a loop inside another loop. In this case, the inner loop in being completely looped across with each iteration of the outer loop. The syntax looks like this:\n",
    "\n",
    "```python\n",
    "sequence_of_elements = [\"element1A\", \"element2A\", \"element3A\"]\n",
    "some_other_sequence = [\"element1B\", \"element2B\", \"element3B\"]\n",
    "for element in sequence_of_elements:\n",
    "    # do\n",
    "    # some\n",
    "    # stuff\n",
    "    for some_other_element in some_other_sequence:\n",
    "        # do\n",
    "        # some\n",
    "        # more\n",
    "        # stuff\n",
    "    \n",
    "```\n",
    "\n",
    "Let's try this. Below there are two lists. In the outer for-loop iterate across the elements of the letter list and have Python print the respective letter in each loop. Inside this letter-loop iterate across the number-list, again printing the respective number in each iteration."
   ]
  },
  {
   "cell_type": "code",
   "execution_count": 18,
   "metadata": {
    "collapsed": true
   },
   "outputs": [],
   "source": [
    "letters = [\"a\", \"b\", \"c\"]\n",
    "numbers = [1, 2, 3]"
   ]
  },
  {
   "cell_type": "code",
   "execution_count": null,
   "metadata": {
    "collapsed": true
   },
   "outputs": [],
   "source": []
  },
  {
   "cell_type": "markdown",
   "metadata": {},
   "source": [
    "And another one: Below there's a list containing three lists. Loop across the elements/lists of the list. Inside this loop write another loop that prints the elements of the respective list."
   ]
  },
  {
   "cell_type": "code",
   "execution_count": 51,
   "metadata": {
    "collapsed": true
   },
   "outputs": [],
   "source": [
    "list_of_lists = [[\"element1_of_list1\", \"element2_of_list1\", \"element3_of_list1\"], [\"element1_of_list2\", \"element2_of_list2\"], [1,2,3,4,5]]"
   ]
  },
  {
   "cell_type": "code",
   "execution_count": null,
   "metadata": {
    "collapsed": true
   },
   "outputs": [],
   "source": []
  },
  {
   "cell_type": "markdown",
   "metadata": {},
   "source": [
    "**Break and continue**\n",
    "\n",
    "There are certain statements that we can use inside of loops that help us modify the behaviour of the loop, e.g., when certain conditions are met.\n",
    "- break: will stop the loop from iterating immediately\n",
    "- continue: will skip any following code of the body and jump to the next iteration\n",
    "\n",
    "The syntax might look like this:\n",
    "```python\n",
    "for element in sequence_of_elements:\n",
    "    if some_condition:\n",
    "        break # or continue\n",
    "    print(element)\n",
    "    \n",
    "```\n",
    "\n",
    "Both statements can stand anywhere inside a loop. Of course, the behaviour of the loop will be different depending on where we put the statemment.\n",
    "\n",
    "Write a for-loop that iterates across the numbers 0 to 9, printing the sentence \"The number is: \" + the respective number of the iteration. Use `break` to make the loop stop once the number of the loop-variable is 5. "
   ]
  },
  {
   "cell_type": "code",
   "execution_count": null,
   "metadata": {
    "collapsed": true
   },
   "outputs": [],
   "source": []
  },
  {
   "cell_type": "markdown",
   "metadata": {},
   "source": [
    "This time we would like the loop to print each element (0 to 9) *except* for the number 5. Using the break command above it simply stopped printing all numbers bigger than 5. This time we would like the loop to `continue` its work afterwards."
   ]
  },
  {
   "cell_type": "code",
   "execution_count": null,
   "metadata": {
    "collapsed": true
   },
   "outputs": [],
   "source": []
  },
  {
   "cell_type": "markdown",
   "metadata": {},
   "source": [
    "**Looping through dictionaries**\n",
    "\n",
    "As mentioned above we can loop across the elements of any container-like object, including dictionaries. Without any further specification, the loop variable will iterate across the *keys* of the dictionary.\n",
    "\n",
    "Loop across the elements of the following dictionary and have Python print each element."
   ]
  },
  {
   "cell_type": "code",
   "execution_count": 22,
   "metadata": {
    "collapsed": true
   },
   "outputs": [],
   "source": [
    "cute_animals = {\"otters\":1, \"dogs\": 2, \"piglets\":3}"
   ]
  },
  {
   "cell_type": "code",
   "execution_count": null,
   "metadata": {
    "collapsed": true
   },
   "outputs": [],
   "source": []
  },
  {
   "cell_type": "markdown",
   "metadata": {},
   "source": [
    "Now rewrite the code above, this time first printing the key (as before) and then also printing the value associated with the key (using indexing)."
   ]
  },
  {
   "cell_type": "code",
   "execution_count": null,
   "metadata": {
    "collapsed": true
   },
   "outputs": [],
   "source": []
  },
  {
   "cell_type": "markdown",
   "metadata": {},
   "source": [
    "There is another way of writing the code above, using the dict.items() method:"
   ]
  },
  {
   "cell_type": "code",
   "execution_count": 33,
   "metadata": {},
   "outputs": [
    {
     "name": "stdout",
     "output_type": "stream",
     "text": [
      "dogs\n",
      "2\n",
      "piglets\n",
      "3\n",
      "otters\n",
      "1\n"
     ]
    }
   ],
   "source": [
    "for a, b in cute_animals.items():\n",
    "    print(a)\n",
    "    print(b)"
   ]
  },
  {
   "cell_type": "markdown",
   "metadata": {},
   "source": [
    "Of course, we could also loop across the values of a dictionary using the `.values()` method.\n",
    "\n",
    "Try to loop across the values of `cute_animals` printing the value with each iteration."
   ]
  },
  {
   "cell_type": "code",
   "execution_count": null,
   "metadata": {
    "collapsed": true
   },
   "outputs": [],
   "source": []
  },
  {
   "cell_type": "markdown",
   "metadata": {},
   "source": [
    "**List comprehensions**\n",
    "\n",
    "List comprehensions are very Python-specific and also very handy! List comprehensions are basically loops iterating across elements of lists, however, the result is written into another list. This may sound complicated now, but once you get the idea you won't want to miss it!\n",
    "\n",
    "The syntax looks like this:\n",
    "```python\n",
    "some_list = [element1, \"element2\", 3]\n",
    "[element for element in some_list]\n",
    "```\n",
    "Apply the syntax above to the following list and take a look at the output."
   ]
  },
  {
   "cell_type": "code",
   "execution_count": 44,
   "metadata": {
    "collapsed": true
   },
   "outputs": [],
   "source": [
    "my_list = [\"apples\" , \"bananas\", \"peaches\"]"
   ]
  },
  {
   "cell_type": "code",
   "execution_count": null,
   "metadata": {
    "collapsed": true
   },
   "outputs": [],
   "source": []
  },
  {
   "cell_type": "markdown",
   "metadata": {},
   "source": [
    "Like this, list comprehensions don't seem to be very handy given that we have just basically created a copy of the list we had before. However, instead of simply let the list comprehension give is the element itself, we can also modify the respective element.\n",
    "\n",
    "Try to generate a list that contains only the first letter of each element in `my_list`."
   ]
  },
  {
   "cell_type": "code",
   "execution_count": null,
   "metadata": {
    "collapsed": true
   },
   "outputs": [],
   "source": []
  },
  {
   "cell_type": "markdown",
   "metadata": {},
   "source": [
    "We can also use if-statements inside list comprehensions.\n",
    "\n",
    "```python\n",
    "[element for element in some_list if some_condition]\n",
    "```\n",
    "\n",
    "Create a list that only consists of those elements in `my_list` that have more than 6 letters. "
   ]
  },
  {
   "cell_type": "code",
   "execution_count": null,
   "metadata": {
    "collapsed": true
   },
   "outputs": [],
   "source": []
  },
  {
   "cell_type": "markdown",
   "metadata": {},
   "source": [
    "If, however, we don't just want one simple if-condition inside the list comprehension but an if-else-statement the order of the if-statement changes:\n",
    "\n",
    "```python\n",
    "[element if some_condition else something_else for element in some_list]\n",
    "```\n",
    "\n",
    "Rewrite the code from the cell above, still writing elements with more than 6 letters to the list, but also adding \"too short\" to the list if the string/element has 6 or less letters."
   ]
  },
  {
   "cell_type": "code",
   "execution_count": null,
   "metadata": {
    "collapsed": true
   },
   "outputs": [],
   "source": []
  },
  {
   "cell_type": "markdown",
   "metadata": {},
   "source": [
    "As with for-loops we can use nested list comprehensions. The syntax:\n",
    "\n",
    "```python\n",
    "[element for inner_list in outer_list for element in inner_list]\n",
    "```\n",
    "\n",
    "Remember our `list_of_lists` from above when we used two for-loops to have Python print the single elements contained in each sublist. Let's do the same thing again using list comprehensions this time. The difference in the output will be that this time we are creating a list of all elements in the sublists, last time we simply printed the elements. In other words, we are now \"flattening\" the `list_of_lists` which, in the original, consists of 2 dimensions (i.e., two, as we had lists in a list).\n"
   ]
  },
  {
   "cell_type": "code",
   "execution_count": null,
   "metadata": {
    "collapsed": true
   },
   "outputs": [],
   "source": []
  },
  {
   "cell_type": "markdown",
   "metadata": {},
   "source": [
    "**Looping across two lists simultaneously**\n",
    "\n",
    "Sometimes we need to iterate across two lists simultaneously. For this purpose we can use the function `zip()`. It takes several arguments (e.g., lists) and creates *tuples* of the corresponding elements by index:\n",
    "```python\n",
    "list1 = [1,2,3]\n",
    "list2 = [4,5,6]\n",
    "\n",
    "zipped = zip(list1, list2)\n",
    "\n",
    "# zip actually returns a zip-object, but by turning it into a list we can look at what is inside:\n",
    "list(zipped)\n",
    "# this will return [(1, 4), (2, 5), (3, 6)]\n",
    "\n",
    "```\n"
   ]
  },
  {
   "cell_type": "markdown",
   "metadata": {},
   "source": [
    "Let's look at this example:"
   ]
  },
  {
   "cell_type": "code",
   "execution_count": 5,
   "metadata": {},
   "outputs": [
    {
     "data": {
      "text/plain": [
       "['otters have rank 1', 'dogs have rank 2', 'piglets have rank 3']"
      ]
     },
     "execution_count": 5,
     "metadata": {},
     "output_type": "execute_result"
    }
   ],
   "source": [
    "cute_animals = [\"otters\", \"dogs\", \"piglets\"]\n",
    "ranks = [1,2,3]\n",
    "[animal + \" have rank \" + str(rank) for (animal, rank) in zip(cute_animals, ranks)]"
   ]
  },
  {
   "cell_type": "markdown",
   "metadata": {},
   "source": [
    "To better understand how the \"loop variables\" animal and rank got their values, take a look at how two variables can be assigned values of tuples in just one line:"
   ]
  },
  {
   "cell_type": "code",
   "execution_count": 6,
   "metadata": {},
   "outputs": [
    {
     "name": "stdout",
     "output_type": "stream",
     "text": [
      "1\n",
      "2\n"
     ]
    }
   ],
   "source": [
    "a,b = (1,2)\n",
    "print(a)\n",
    "print(b)"
   ]
  },
  {
   "cell_type": "markdown",
   "metadata": {},
   "source": [
    "**Dictionary comprehensions**\n",
    "\n",
    "... work just like list comprehensions, only we are creating a dictionary instead of a list. For that aim, of course, we have to give it two instead of one value (one for the key and one for its value).\n",
    "\n",
    "```python\n",
    "{key:value for (key, value) in some_list_of_tuples}\n",
    "```\n",
    "\n",
    "Create our well-known `cute_animals` dictionary again using a dictionary comprehension and the `zip()` function."
   ]
  },
  {
   "cell_type": "code",
   "execution_count": 1,
   "metadata": {
    "collapsed": true
   },
   "outputs": [],
   "source": [
    "cute_animals = [\"otters\", \"dogs\", \"piglets\"]\n",
    "ranks = [1,2,3]"
   ]
  },
  {
   "cell_type": "code",
   "execution_count": null,
   "metadata": {
    "collapsed": true
   },
   "outputs": [],
   "source": []
  },
  {
   "cell_type": "markdown",
   "metadata": {},
   "source": [
    "**2) While-loops**\n",
    "\n",
    "While-loops are used, when we want to achieve a certain state / achieve a certain criterion, but we don't know how many iterations it will take until the state is reached / the criterion is met. The syntax of while-loops looks like this:\n",
    "\n",
    "```python\n",
    "while some_unwanted_but_changeable_condition:\n",
    "    # do\n",
    "    # some\n",
    "    # stuff\n",
    "```\n",
    "\n",
    "The while-loop will do the things specified in the body as long as the condition behind \"while\" is met. It will only stop iterating once the condition does not result in `True` anymore.\n",
    "\n",
    "**IMPORTANT NOTE:** take care to never create a while loop whose condition can't possibly change. A (really stupid) example would be something like this:\n",
    "\n",
    "```python\n",
    "# a BAD idea!\n",
    "while True:\n",
    "    print(\"Aaaaah!!!\")\n",
    "```\n",
    "A better idea would be something like this:"
   ]
  },
  {
   "cell_type": "code",
   "execution_count": 24,
   "metadata": {},
   "outputs": [
    {
     "name": "stdout",
     "output_type": "stream",
     "text": [
      "1\n",
      "2\n",
      "3\n",
      "4\n",
      "5\n"
     ]
    }
   ],
   "source": [
    "i = 1\n",
    "while i < 6:\n",
    "    print(i)\n",
    "    i += 1"
   ]
  },
  {
   "cell_type": "markdown",
   "metadata": {},
   "source": [
    "As you can see, the condition WILL eventually change, as the variable i changes with each iteration. Of course, a bad idea would be to wait for i to get smaller than 0 because this will never happen."
   ]
  }
 ],
 "metadata": {
  "kernelspec": {
   "display_name": "Python 3",
   "language": "python",
   "name": "python3"
  },
  "language_info": {
   "codemirror_mode": {
    "name": "ipython",
    "version": 3
   },
   "file_extension": ".py",
   "mimetype": "text/x-python",
   "name": "python",
   "nbconvert_exporter": "python",
   "pygments_lexer": "ipython3",
   "version": "3.5.4"
  }
 },
 "nbformat": 4,
 "nbformat_minor": 2
}
